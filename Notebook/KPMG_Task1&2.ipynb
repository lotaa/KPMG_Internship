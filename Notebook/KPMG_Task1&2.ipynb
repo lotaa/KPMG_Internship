{
 "cells": [
  {
   "cell_type": "code",
   "execution_count": 1,
   "id": "1a65e0eb",
   "metadata": {},
   "outputs": [],
   "source": [
    "#import all require libs\n",
    "import pandas as pd\n",
    "import numpy as np \n",
    "import matplotlib.pyplot as plt\n",
    "import datetime as dt\n",
    "import seaborn as sns"
   ]
  },
  {
   "cell_type": "code",
   "execution_count": 7,
   "id": "b304dd6b",
   "metadata": {},
   "outputs": [],
   "source": [
    "df = pd.ExcelFile(\"KPMG_VI_New_raw_data_update_final.xlsx\")"
   ]
  },
  {
   "cell_type": "code",
   "execution_count": 8,
   "id": "d24aa93a",
   "metadata": {},
   "outputs": [],
   "source": [
    "#read dataframes\n",
    "CustomerDemographic = pd.read_excel(df, 'CustomerDemographic')\n",
    "Transactions = pd.read_excel(df, 'Transactions')\n",
    "NewCustomerList = pd.read_excel(df, 'NewCustomerList')\n",
    "CustomerAddress = pd.read_excel(df, 'CustomerAddress')"
   ]
  },
  {
   "cell_type": "markdown",
   "id": "2cc49f4f",
   "metadata": {},
   "source": [
    "# Exploring CustomerDemographic  Dataset"
   ]
  },
  {
   "cell_type": "code",
   "execution_count": 9,
   "id": "1ad18ec3",
   "metadata": {},
   "outputs": [
    {
     "data": {
      "text/html": [
       "<div>\n",
       "<style scoped>\n",
       "    .dataframe tbody tr th:only-of-type {\n",
       "        vertical-align: middle;\n",
       "    }\n",
       "\n",
       "    .dataframe tbody tr th {\n",
       "        vertical-align: top;\n",
       "    }\n",
       "\n",
       "    .dataframe thead th {\n",
       "        text-align: right;\n",
       "    }\n",
       "</style>\n",
       "<table border=\"1\" class=\"dataframe\">\n",
       "  <thead>\n",
       "    <tr style=\"text-align: right;\">\n",
       "      <th></th>\n",
       "      <th>customer_id</th>\n",
       "      <th>first_name</th>\n",
       "      <th>last_name</th>\n",
       "      <th>gender</th>\n",
       "      <th>past_3_years_bike_related_purchases</th>\n",
       "      <th>DOB</th>\n",
       "      <th>job_title</th>\n",
       "      <th>job_industry_category</th>\n",
       "      <th>wealth_segment</th>\n",
       "      <th>deceased_indicator</th>\n",
       "      <th>default</th>\n",
       "      <th>owns_car</th>\n",
       "      <th>tenure</th>\n",
       "    </tr>\n",
       "  </thead>\n",
       "  <tbody>\n",
       "    <tr>\n",
       "      <th>0</th>\n",
       "      <td>1</td>\n",
       "      <td>Laraine</td>\n",
       "      <td>Medendorp</td>\n",
       "      <td>F</td>\n",
       "      <td>93</td>\n",
       "      <td>1953-10-12</td>\n",
       "      <td>Executive Secretary</td>\n",
       "      <td>Health</td>\n",
       "      <td>Mass Customer</td>\n",
       "      <td>N</td>\n",
       "      <td>\"'</td>\n",
       "      <td>Yes</td>\n",
       "      <td>11.0</td>\n",
       "    </tr>\n",
       "    <tr>\n",
       "      <th>1</th>\n",
       "      <td>2</td>\n",
       "      <td>Eli</td>\n",
       "      <td>Bockman</td>\n",
       "      <td>Male</td>\n",
       "      <td>81</td>\n",
       "      <td>1980-12-16</td>\n",
       "      <td>Administrative Officer</td>\n",
       "      <td>Financial Services</td>\n",
       "      <td>Mass Customer</td>\n",
       "      <td>N</td>\n",
       "      <td>&lt;script&gt;alert('hi')&lt;/script&gt;</td>\n",
       "      <td>Yes</td>\n",
       "      <td>16.0</td>\n",
       "    </tr>\n",
       "    <tr>\n",
       "      <th>2</th>\n",
       "      <td>3</td>\n",
       "      <td>Arlin</td>\n",
       "      <td>Dearle</td>\n",
       "      <td>Male</td>\n",
       "      <td>61</td>\n",
       "      <td>1954-01-20</td>\n",
       "      <td>Recruiting Manager</td>\n",
       "      <td>Property</td>\n",
       "      <td>Mass Customer</td>\n",
       "      <td>N</td>\n",
       "      <td>2018-02-01 00:00:00</td>\n",
       "      <td>Yes</td>\n",
       "      <td>15.0</td>\n",
       "    </tr>\n",
       "    <tr>\n",
       "      <th>3</th>\n",
       "      <td>4</td>\n",
       "      <td>Talbot</td>\n",
       "      <td>NaN</td>\n",
       "      <td>Male</td>\n",
       "      <td>33</td>\n",
       "      <td>1961-10-03</td>\n",
       "      <td>NaN</td>\n",
       "      <td>IT</td>\n",
       "      <td>Mass Customer</td>\n",
       "      <td>N</td>\n",
       "      <td>() { _; } &gt;_[$($())] { touch /tmp/blns.shellsh...</td>\n",
       "      <td>No</td>\n",
       "      <td>7.0</td>\n",
       "    </tr>\n",
       "    <tr>\n",
       "      <th>4</th>\n",
       "      <td>5</td>\n",
       "      <td>Sheila-kathryn</td>\n",
       "      <td>Calton</td>\n",
       "      <td>Female</td>\n",
       "      <td>56</td>\n",
       "      <td>1977-05-13</td>\n",
       "      <td>Senior Editor</td>\n",
       "      <td>NaN</td>\n",
       "      <td>Affluent Customer</td>\n",
       "      <td>N</td>\n",
       "      <td>NIL</td>\n",
       "      <td>Yes</td>\n",
       "      <td>8.0</td>\n",
       "    </tr>\n",
       "  </tbody>\n",
       "</table>\n",
       "</div>"
      ],
      "text/plain": [
       "   customer_id      first_name  last_name  gender  \\\n",
       "0            1         Laraine  Medendorp       F   \n",
       "1            2             Eli    Bockman    Male   \n",
       "2            3           Arlin     Dearle    Male   \n",
       "3            4          Talbot        NaN    Male   \n",
       "4            5  Sheila-kathryn     Calton  Female   \n",
       "\n",
       "   past_3_years_bike_related_purchases        DOB               job_title  \\\n",
       "0                                   93 1953-10-12     Executive Secretary   \n",
       "1                                   81 1980-12-16  Administrative Officer   \n",
       "2                                   61 1954-01-20      Recruiting Manager   \n",
       "3                                   33 1961-10-03                     NaN   \n",
       "4                                   56 1977-05-13           Senior Editor   \n",
       "\n",
       "  job_industry_category     wealth_segment deceased_indicator  \\\n",
       "0                Health      Mass Customer                  N   \n",
       "1    Financial Services      Mass Customer                  N   \n",
       "2              Property      Mass Customer                  N   \n",
       "3                    IT      Mass Customer                  N   \n",
       "4                   NaN  Affluent Customer                  N   \n",
       "\n",
       "                                             default owns_car  tenure  \n",
       "0                                                 \"'      Yes    11.0  \n",
       "1                       <script>alert('hi')</script>      Yes    16.0  \n",
       "2                                2018-02-01 00:00:00      Yes    15.0  \n",
       "3  () { _; } >_[$($())] { touch /tmp/blns.shellsh...       No     7.0  \n",
       "4                                                NIL      Yes     8.0  "
      ]
     },
     "execution_count": 9,
     "metadata": {},
     "output_type": "execute_result"
    }
   ],
   "source": [
    "#check the first rows in data \n",
    "CustomerDemographic.head()"
   ]
  },
  {
   "cell_type": "code",
   "execution_count": 10,
   "id": "977f00eb",
   "metadata": {},
   "outputs": [
    {
     "data": {
      "text/plain": [
       "Index(['customer_id', 'first_name', 'last_name', 'gender',\n",
       "       'past_3_years_bike_related_purchases', 'DOB', 'job_title',\n",
       "       'job_industry_category', 'wealth_segment', 'deceased_indicator',\n",
       "       'default', 'owns_car', 'tenure'],\n",
       "      dtype='object')"
      ]
     },
     "execution_count": 10,
     "metadata": {},
     "output_type": "execute_result"
    }
   ],
   "source": [
    "#check columns name\n",
    "CustomerDemographic.columns"
   ]
  },
  {
   "cell_type": "code",
   "execution_count": 11,
   "id": "501843b3",
   "metadata": {},
   "outputs": [
    {
     "data": {
      "text/plain": [
       "(4000, 13)"
      ]
     },
     "execution_count": 11,
     "metadata": {},
     "output_type": "execute_result"
    }
   ],
   "source": [
    "#shape of dataset\n",
    "CustomerDemographic.shape"
   ]
  },
  {
   "cell_type": "code",
   "execution_count": 12,
   "id": "a3de7b0d",
   "metadata": {},
   "outputs": [
    {
     "name": "stdout",
     "output_type": "stream",
     "text": [
      "<class 'pandas.core.frame.DataFrame'>\n",
      "RangeIndex: 4000 entries, 0 to 3999\n",
      "Data columns (total 13 columns):\n",
      " #   Column                               Non-Null Count  Dtype         \n",
      "---  ------                               --------------  -----         \n",
      " 0   customer_id                          4000 non-null   int64         \n",
      " 1   first_name                           4000 non-null   object        \n",
      " 2   last_name                            3875 non-null   object        \n",
      " 3   gender                               4000 non-null   object        \n",
      " 4   past_3_years_bike_related_purchases  4000 non-null   int64         \n",
      " 5   DOB                                  3913 non-null   datetime64[ns]\n",
      " 6   job_title                            3494 non-null   object        \n",
      " 7   job_industry_category                3344 non-null   object        \n",
      " 8   wealth_segment                       4000 non-null   object        \n",
      " 9   deceased_indicator                   4000 non-null   object        \n",
      " 10  default                              3698 non-null   object        \n",
      " 11  owns_car                             4000 non-null   object        \n",
      " 12  tenure                               3913 non-null   float64       \n",
      "dtypes: datetime64[ns](1), float64(1), int64(2), object(9)\n",
      "memory usage: 406.4+ KB\n"
     ]
    }
   ],
   "source": [
    "#get more information about dataset\n",
    "CustomerDemographic.info()"
   ]
  },
  {
   "cell_type": "code",
   "execution_count": 13,
   "id": "48204208",
   "metadata": {},
   "outputs": [
    {
     "data": {
      "text/plain": [
       "customer_id                              0\n",
       "first_name                               0\n",
       "last_name                              125\n",
       "gender                                   0\n",
       "past_3_years_bike_related_purchases      0\n",
       "DOB                                     87\n",
       "job_title                              506\n",
       "job_industry_category                  656\n",
       "wealth_segment                           0\n",
       "deceased_indicator                       0\n",
       "default                                302\n",
       "owns_car                                 0\n",
       "tenure                                  87\n",
       "dtype: int64"
      ]
     },
     "execution_count": 13,
     "metadata": {},
     "output_type": "execute_result"
    }
   ],
   "source": [
    "#check null values in dataset\n",
    "CustomerDemographic.isnull().sum()"
   ]
  },
  {
   "cell_type": "markdown",
   "id": "9653565e",
   "metadata": {},
   "source": [
    "***There are missing values in 5 columns. They can be dropped according to the nature of analysis. because each column has nan values less than 16%***"
   ]
  },
  {
   "cell_type": "code",
   "execution_count": 14,
   "id": "e91117ed",
   "metadata": {},
   "outputs": [],
   "source": [
    "#drop nulls\n",
    "CustomerDemographic.dropna(inplace=True)"
   ]
  },
  {
   "cell_type": "code",
   "execution_count": 15,
   "id": "8e20346c",
   "metadata": {},
   "outputs": [
    {
     "data": {
      "text/plain": [
       "customer_id                            0\n",
       "first_name                             0\n",
       "last_name                              0\n",
       "gender                                 0\n",
       "past_3_years_bike_related_purchases    0\n",
       "DOB                                    0\n",
       "job_title                              0\n",
       "job_industry_category                  0\n",
       "wealth_segment                         0\n",
       "deceased_indicator                     0\n",
       "default                                0\n",
       "owns_car                               0\n",
       "tenure                                 0\n",
       "dtype: int64"
      ]
     },
     "execution_count": 15,
     "metadata": {},
     "output_type": "execute_result"
    }
   ],
   "source": [
    "#check null values in dataset again\n",
    "CustomerDemographic.isnull().sum()"
   ]
  },
  {
   "cell_type": "code",
   "execution_count": 16,
   "id": "5506d70b",
   "metadata": {},
   "outputs": [
    {
     "data": {
      "text/plain": [
       "0"
      ]
     },
     "execution_count": 16,
     "metadata": {},
     "output_type": "execute_result"
    }
   ],
   "source": [
    "#Checking for duplicate data\n",
    "CustomerDemographic.duplicated().sum()"
   ]
  },
  {
   "cell_type": "markdown",
   "id": "a7d43a9f",
   "metadata": {},
   "source": [
    "***There no duplicated values***"
   ]
  },
  {
   "cell_type": "code",
   "execution_count": 17,
   "id": "8eb156b3",
   "metadata": {},
   "outputs": [
    {
     "data": {
      "text/plain": [
       "Female    1366\n",
       "Male      1262\n",
       "Femal        1\n",
       "F            1\n",
       "Name: gender, dtype: int64"
      ]
     },
     "execution_count": 17,
     "metadata": {},
     "output_type": "execute_result"
    }
   ],
   "source": [
    "#check values for gender\n",
    "CustomerDemographic.gender.value_counts()"
   ]
  },
  {
   "cell_type": "markdown",
   "id": "56f3b9eb",
   "metadata": {},
   "source": [
    "***Certain categories are not correctly titled***"
   ]
  },
  {
   "cell_type": "code",
   "execution_count": 18,
   "id": "f73d7bce",
   "metadata": {},
   "outputs": [],
   "source": [
    "#change data\n",
    "CustomerDemographic.gender.replace('F', 'Female', inplace =True)\n",
    "CustomerDemographic.gender.replace('Femal', 'Female', inplace =True)\n",
    "CustomerDemographic.gender.replace('M', 'Male', inplace =True)\n",
    "CustomerDemographic.gender.replace('U', 'Unspecified', inplace =True)"
   ]
  },
  {
   "cell_type": "code",
   "execution_count": 19,
   "id": "4135616d",
   "metadata": {},
   "outputs": [
    {
     "data": {
      "text/plain": [
       "Female    1368\n",
       "Male      1262\n",
       "Name: gender, dtype: int64"
      ]
     },
     "execution_count": 19,
     "metadata": {},
     "output_type": "execute_result"
    }
   ],
   "source": [
    "#check values for gender again\n",
    "CustomerDemographic.gender.value_counts()"
   ]
  },
  {
   "cell_type": "code",
   "execution_count": 20,
   "id": "9c34393e",
   "metadata": {},
   "outputs": [
    {
     "data": {
      "text/plain": [
       "2     39\n",
       "73    39\n",
       "38    37\n",
       "48    34\n",
       "97    34\n",
       "      ..\n",
       "8     19\n",
       "1     18\n",
       "21    18\n",
       "58    15\n",
       "92    14\n",
       "Name: past_3_years_bike_related_purchases, Length: 100, dtype: int64"
      ]
     },
     "execution_count": 20,
     "metadata": {},
     "output_type": "execute_result"
    }
   ],
   "source": [
    "#check values for past_3_years_bike_related_purchases\n",
    "CustomerDemographic.past_3_years_bike_related_purchases.value_counts()"
   ]
  },
  {
   "cell_type": "code",
   "execution_count": 21,
   "id": "d7c95751",
   "metadata": {},
   "outputs": [
    {
     "data": {
      "text/plain": [
       "719    1931-10-23\n",
       "1091   1935-08-22\n",
       "2412   1943-08-11\n",
       "657    1944-01-24\n",
       "1242   1953-08-09\n",
       "          ...    \n",
       "1518   2001-11-30\n",
       "1401   2001-12-08\n",
       "3948   2001-12-19\n",
       "2295   2002-01-01\n",
       "65     2002-03-11\n",
       "Name: DOB, Length: 2630, dtype: datetime64[ns]"
      ]
     },
     "execution_count": 21,
     "metadata": {},
     "output_type": "execute_result"
    }
   ],
   "source": [
    "#check values in DOB column in dataset\n",
    "CustomerDemographic.DOB.sort_values()"
   ]
  },
  {
   "cell_type": "code",
   "execution_count": 22,
   "id": "9190e83e",
   "metadata": {},
   "outputs": [
    {
     "data": {
      "text/html": [
       "<div>\n",
       "<style scoped>\n",
       "    .dataframe tbody tr th:only-of-type {\n",
       "        vertical-align: middle;\n",
       "    }\n",
       "\n",
       "    .dataframe tbody tr th {\n",
       "        vertical-align: top;\n",
       "    }\n",
       "\n",
       "    .dataframe thead th {\n",
       "        text-align: right;\n",
       "    }\n",
       "</style>\n",
       "<table border=\"1\" class=\"dataframe\">\n",
       "  <thead>\n",
       "    <tr style=\"text-align: right;\">\n",
       "      <th></th>\n",
       "      <th>customer_id</th>\n",
       "      <th>first_name</th>\n",
       "      <th>last_name</th>\n",
       "      <th>gender</th>\n",
       "      <th>past_3_years_bike_related_purchases</th>\n",
       "      <th>DOB</th>\n",
       "      <th>job_title</th>\n",
       "      <th>job_industry_category</th>\n",
       "      <th>wealth_segment</th>\n",
       "      <th>deceased_indicator</th>\n",
       "      <th>default</th>\n",
       "      <th>owns_car</th>\n",
       "      <th>tenure</th>\n",
       "    </tr>\n",
       "  </thead>\n",
       "  <tbody>\n",
       "  </tbody>\n",
       "</table>\n",
       "</div>"
      ],
      "text/plain": [
       "Empty DataFrame\n",
       "Columns: [customer_id, first_name, last_name, gender, past_3_years_bike_related_purchases, DOB, job_title, job_industry_category, wealth_segment, deceased_indicator, default, owns_car, tenure]\n",
       "Index: []"
      ]
     },
     "execution_count": 22,
     "metadata": {},
     "output_type": "execute_result"
    }
   ],
   "source": [
    "#check again\n",
    "CustomerDemographic[CustomerDemographic.DOB =='1843-12-21']"
   ]
  },
  {
   "cell_type": "code",
   "execution_count": 23,
   "id": "fc05c6f1",
   "metadata": {},
   "outputs": [
    {
     "data": {
      "text/plain": [
       "Social Worker                   38\n",
       "Sales Representative            36\n",
       "Chemical Engineer               34\n",
       "Dental Hygienist                34\n",
       "Desktop Support Technician      33\n",
       "                                ..\n",
       "Accounting Assistant IV          2\n",
       "Research Assistant III           2\n",
       "Human Resources Assistant IV     2\n",
       "Database Administrator II        1\n",
       "Developer I                      1\n",
       "Name: job_title, Length: 195, dtype: int64"
      ]
     },
     "execution_count": 23,
     "metadata": {},
     "output_type": "execute_result"
    }
   ],
   "source": [
    "#check data for job_title column\n",
    "CustomerDemographic.job_title.value_counts()                              "
   ]
  },
  {
   "cell_type": "code",
   "execution_count": 24,
   "id": "8ee46961",
   "metadata": {},
   "outputs": [
    {
     "data": {
      "text/plain": [
       "Manufacturing         635\n",
       "Financial Services    626\n",
       "Health                496\n",
       "Retail                278\n",
       "Property              222\n",
       "IT                    119\n",
       "Entertainment         110\n",
       "Argiculture            91\n",
       "Telecommunications     53\n",
       "Name: job_industry_category, dtype: int64"
      ]
     },
     "execution_count": 24,
     "metadata": {},
     "output_type": "execute_result"
    }
   ],
   "source": [
    "#check values in job_industry_category column\n",
    "CustomerDemographic.job_industry_category.value_counts()"
   ]
  },
  {
   "cell_type": "code",
   "execution_count": 25,
   "id": "ea3539d0",
   "metadata": {},
   "outputs": [
    {
     "data": {
      "text/plain": [
       "N    2628\n",
       "Y       2\n",
       "Name: deceased_indicator, dtype: int64"
      ]
     },
     "execution_count": 25,
     "metadata": {},
     "output_type": "execute_result"
    }
   ],
   "source": [
    "#check values in deceased_indicator column\n",
    "CustomerDemographic.deceased_indicator.value_counts()"
   ]
  },
  {
   "cell_type": "code",
   "execution_count": 26,
   "id": "f09479e6",
   "metadata": {},
   "outputs": [
    {
     "data": {
      "text/plain": [
       "1                                   87\n",
       "-1                                  75\n",
       "100                                 72\n",
       "-100                                67\n",
       "ï½ï½¨(Â´âï½â©                       45\n",
       "                                    ..\n",
       "âªâªtestâª                          20\n",
       "(â¯Â°â¡Â°ï¼â¯ï¸µ â»ââ»)             20\n",
       "ç¤¾æç§å­¸é¢èªå­¸ç ç©¶æ              20\n",
       "ð¾ ð ð ð ð ð ð ð                    20\n",
       ",ãã»:*:ã»ãâ( â» Ï â» )ãã»:*:ã»ãâ    16\n",
       "Name: default, Length: 90, dtype: int64"
      ]
     },
     "execution_count": 26,
     "metadata": {},
     "output_type": "execute_result"
    }
   ],
   "source": [
    "#check values in default column\n",
    "CustomerDemographic.default.value_counts()"
   ]
  },
  {
   "cell_type": "markdown",
   "id": "fdd41c6d",
   "metadata": {},
   "source": [
    "***The values are inconsistent, hence dropping the column.***"
   ]
  },
  {
   "cell_type": "code",
   "execution_count": 27,
   "id": "bace13d0",
   "metadata": {},
   "outputs": [],
   "source": [
    "#drop default column\n",
    "CustomerDemographic.drop(columns='default', axis=1, inplace=True)"
   ]
  },
  {
   "cell_type": "code",
   "execution_count": 28,
   "id": "e55493ac",
   "metadata": {},
   "outputs": [
    {
     "data": {
      "text/plain": [
       "Index(['customer_id', 'first_name', 'last_name', 'gender',\n",
       "       'past_3_years_bike_related_purchases', 'DOB', 'job_title',\n",
       "       'job_industry_category', 'wealth_segment', 'deceased_indicator',\n",
       "       'owns_car', 'tenure'],\n",
       "      dtype='object')"
      ]
     },
     "execution_count": 28,
     "metadata": {},
     "output_type": "execute_result"
    }
   ],
   "source": [
    "#check data\n",
    "CustomerDemographic.columns"
   ]
  },
  {
   "cell_type": "code",
   "execution_count": 29,
   "id": "09c97978",
   "metadata": {},
   "outputs": [
    {
     "data": {
      "text/plain": [
       "Yes    1361\n",
       "No     1269\n",
       "Name: owns_car, dtype: int64"
      ]
     },
     "execution_count": 29,
     "metadata": {},
     "output_type": "execute_result"
    }
   ],
   "source": [
    "#check values for owns_car columns\n",
    "CustomerDemographic.owns_car.value_counts()"
   ]
  },
  {
   "cell_type": "code",
   "execution_count": 30,
   "id": "480d17df",
   "metadata": {},
   "outputs": [
    {
     "data": {
      "text/plain": [
       "count    2630.000000\n",
       "mean       10.671483\n",
       "std         5.676862\n",
       "min         1.000000\n",
       "25%         6.000000\n",
       "50%        10.000000\n",
       "75%        16.000000\n",
       "max        22.000000\n",
       "Name: tenure, dtype: float64"
      ]
     },
     "execution_count": 30,
     "metadata": {},
     "output_type": "execute_result"
    }
   ],
   "source": [
    "#check values for tenure columns\n",
    "CustomerDemographic.tenure.describe()"
   ]
  },
  {
   "cell_type": "markdown",
   "id": "77fff7b5",
   "metadata": {},
   "source": [
    "# Exploring NewCustomerList Dataset"
   ]
  },
  {
   "cell_type": "code",
   "execution_count": 31,
   "id": "27cc313e",
   "metadata": {},
   "outputs": [
    {
     "data": {
      "text/html": [
       "<div>\n",
       "<style scoped>\n",
       "    .dataframe tbody tr th:only-of-type {\n",
       "        vertical-align: middle;\n",
       "    }\n",
       "\n",
       "    .dataframe tbody tr th {\n",
       "        vertical-align: top;\n",
       "    }\n",
       "\n",
       "    .dataframe thead th {\n",
       "        text-align: right;\n",
       "    }\n",
       "</style>\n",
       "<table border=\"1\" class=\"dataframe\">\n",
       "  <thead>\n",
       "    <tr style=\"text-align: right;\">\n",
       "      <th></th>\n",
       "      <th>first_name</th>\n",
       "      <th>last_name</th>\n",
       "      <th>gender</th>\n",
       "      <th>past_3_years_bike_related_purchases</th>\n",
       "      <th>DOB</th>\n",
       "      <th>job_title</th>\n",
       "      <th>job_industry_category</th>\n",
       "      <th>wealth_segment</th>\n",
       "      <th>deceased_indicator</th>\n",
       "      <th>owns_car</th>\n",
       "      <th>...</th>\n",
       "      <th>state</th>\n",
       "      <th>country</th>\n",
       "      <th>property_valuation</th>\n",
       "      <th>Unnamed: 16</th>\n",
       "      <th>Unnamed: 17</th>\n",
       "      <th>Unnamed: 18</th>\n",
       "      <th>Unnamed: 19</th>\n",
       "      <th>Unnamed: 20</th>\n",
       "      <th>Rank</th>\n",
       "      <th>Value</th>\n",
       "    </tr>\n",
       "  </thead>\n",
       "  <tbody>\n",
       "    <tr>\n",
       "      <th>0</th>\n",
       "      <td>Chickie</td>\n",
       "      <td>Brister</td>\n",
       "      <td>Male</td>\n",
       "      <td>86</td>\n",
       "      <td>1957-07-12</td>\n",
       "      <td>General Manager</td>\n",
       "      <td>Manufacturing</td>\n",
       "      <td>Mass Customer</td>\n",
       "      <td>N</td>\n",
       "      <td>Yes</td>\n",
       "      <td>...</td>\n",
       "      <td>QLD</td>\n",
       "      <td>Australia</td>\n",
       "      <td>6</td>\n",
       "      <td>0.55</td>\n",
       "      <td>0.6875</td>\n",
       "      <td>0.859375</td>\n",
       "      <td>0.730469</td>\n",
       "      <td>1</td>\n",
       "      <td>1</td>\n",
       "      <td>1.718750</td>\n",
       "    </tr>\n",
       "    <tr>\n",
       "      <th>1</th>\n",
       "      <td>Morly</td>\n",
       "      <td>Genery</td>\n",
       "      <td>Male</td>\n",
       "      <td>69</td>\n",
       "      <td>1970-03-22</td>\n",
       "      <td>Structural Engineer</td>\n",
       "      <td>Property</td>\n",
       "      <td>Mass Customer</td>\n",
       "      <td>N</td>\n",
       "      <td>No</td>\n",
       "      <td>...</td>\n",
       "      <td>NSW</td>\n",
       "      <td>Australia</td>\n",
       "      <td>11</td>\n",
       "      <td>0.89</td>\n",
       "      <td>0.8900</td>\n",
       "      <td>1.112500</td>\n",
       "      <td>0.945625</td>\n",
       "      <td>1</td>\n",
       "      <td>1</td>\n",
       "      <td>1.718750</td>\n",
       "    </tr>\n",
       "    <tr>\n",
       "      <th>2</th>\n",
       "      <td>Ardelis</td>\n",
       "      <td>Forrester</td>\n",
       "      <td>Female</td>\n",
       "      <td>10</td>\n",
       "      <td>1974-08-28</td>\n",
       "      <td>Senior Cost Accountant</td>\n",
       "      <td>Financial Services</td>\n",
       "      <td>Affluent Customer</td>\n",
       "      <td>N</td>\n",
       "      <td>No</td>\n",
       "      <td>...</td>\n",
       "      <td>VIC</td>\n",
       "      <td>Australia</td>\n",
       "      <td>5</td>\n",
       "      <td>0.41</td>\n",
       "      <td>0.4100</td>\n",
       "      <td>0.410000</td>\n",
       "      <td>0.410000</td>\n",
       "      <td>1</td>\n",
       "      <td>1</td>\n",
       "      <td>1.718750</td>\n",
       "    </tr>\n",
       "    <tr>\n",
       "      <th>3</th>\n",
       "      <td>Lucine</td>\n",
       "      <td>Stutt</td>\n",
       "      <td>Female</td>\n",
       "      <td>64</td>\n",
       "      <td>1979-01-28</td>\n",
       "      <td>Account Representative III</td>\n",
       "      <td>Manufacturing</td>\n",
       "      <td>Affluent Customer</td>\n",
       "      <td>N</td>\n",
       "      <td>Yes</td>\n",
       "      <td>...</td>\n",
       "      <td>QLD</td>\n",
       "      <td>Australia</td>\n",
       "      <td>1</td>\n",
       "      <td>0.46</td>\n",
       "      <td>0.5750</td>\n",
       "      <td>0.575000</td>\n",
       "      <td>0.575000</td>\n",
       "      <td>4</td>\n",
       "      <td>4</td>\n",
       "      <td>1.703125</td>\n",
       "    </tr>\n",
       "    <tr>\n",
       "      <th>4</th>\n",
       "      <td>Melinda</td>\n",
       "      <td>Hadlee</td>\n",
       "      <td>Female</td>\n",
       "      <td>34</td>\n",
       "      <td>1965-09-21</td>\n",
       "      <td>Financial Analyst</td>\n",
       "      <td>Financial Services</td>\n",
       "      <td>Affluent Customer</td>\n",
       "      <td>N</td>\n",
       "      <td>No</td>\n",
       "      <td>...</td>\n",
       "      <td>NSW</td>\n",
       "      <td>Australia</td>\n",
       "      <td>9</td>\n",
       "      <td>0.53</td>\n",
       "      <td>0.5300</td>\n",
       "      <td>0.662500</td>\n",
       "      <td>0.662500</td>\n",
       "      <td>4</td>\n",
       "      <td>4</td>\n",
       "      <td>1.703125</td>\n",
       "    </tr>\n",
       "  </tbody>\n",
       "</table>\n",
       "<p>5 rows × 23 columns</p>\n",
       "</div>"
      ],
      "text/plain": [
       "  first_name  last_name  gender  past_3_years_bike_related_purchases  \\\n",
       "0    Chickie    Brister    Male                                   86   \n",
       "1      Morly     Genery    Male                                   69   \n",
       "2    Ardelis  Forrester  Female                                   10   \n",
       "3     Lucine      Stutt  Female                                   64   \n",
       "4    Melinda     Hadlee  Female                                   34   \n",
       "\n",
       "         DOB                   job_title job_industry_category  \\\n",
       "0 1957-07-12             General Manager         Manufacturing   \n",
       "1 1970-03-22         Structural Engineer              Property   \n",
       "2 1974-08-28      Senior Cost Accountant    Financial Services   \n",
       "3 1979-01-28  Account Representative III         Manufacturing   \n",
       "4 1965-09-21           Financial Analyst    Financial Services   \n",
       "\n",
       "      wealth_segment deceased_indicator owns_car  ...  state    country  \\\n",
       "0      Mass Customer                  N      Yes  ...    QLD  Australia   \n",
       "1      Mass Customer                  N       No  ...    NSW  Australia   \n",
       "2  Affluent Customer                  N       No  ...    VIC  Australia   \n",
       "3  Affluent Customer                  N      Yes  ...    QLD  Australia   \n",
       "4  Affluent Customer                  N       No  ...    NSW  Australia   \n",
       "\n",
       "   property_valuation Unnamed: 16 Unnamed: 17  Unnamed: 18  Unnamed: 19  \\\n",
       "0                   6        0.55      0.6875     0.859375     0.730469   \n",
       "1                  11        0.89      0.8900     1.112500     0.945625   \n",
       "2                   5        0.41      0.4100     0.410000     0.410000   \n",
       "3                   1        0.46      0.5750     0.575000     0.575000   \n",
       "4                   9        0.53      0.5300     0.662500     0.662500   \n",
       "\n",
       "   Unnamed: 20  Rank     Value  \n",
       "0            1     1  1.718750  \n",
       "1            1     1  1.718750  \n",
       "2            1     1  1.718750  \n",
       "3            4     4  1.703125  \n",
       "4            4     4  1.703125  \n",
       "\n",
       "[5 rows x 23 columns]"
      ]
     },
     "execution_count": 31,
     "metadata": {},
     "output_type": "execute_result"
    }
   ],
   "source": [
    "#show frist rows in dataset\n",
    "NewCustomerList.head()"
   ]
  },
  {
   "cell_type": "code",
   "execution_count": 32,
   "id": "e01ce00c",
   "metadata": {},
   "outputs": [
    {
     "data": {
      "text/plain": [
       "Index(['first_name', 'last_name', 'gender',\n",
       "       'past_3_years_bike_related_purchases', 'DOB', 'job_title',\n",
       "       'job_industry_category', 'wealth_segment', 'deceased_indicator',\n",
       "       'owns_car', 'tenure', 'address', 'postcode', 'state', 'country',\n",
       "       'property_valuation', 'Unnamed: 16', 'Unnamed: 17', 'Unnamed: 18',\n",
       "       'Unnamed: 19', 'Unnamed: 20', 'Rank', 'Value'],\n",
       "      dtype='object')"
      ]
     },
     "execution_count": 32,
     "metadata": {},
     "output_type": "execute_result"
    }
   ],
   "source": [
    "#check columns name\n",
    "NewCustomerList.columns"
   ]
  },
  {
   "cell_type": "markdown",
   "id": "45f1bfcc",
   "metadata": {},
   "source": [
    "***I will drop all unnmaned columns***"
   ]
  },
  {
   "cell_type": "code",
   "execution_count": 33,
   "id": "47276e14",
   "metadata": {},
   "outputs": [],
   "source": [
    "#Dropping the unnamed columns\n",
    "NewCustomerList.drop(['Unnamed: 16', 'Unnamed: 17', 'Unnamed: 18',\n",
    "       'Unnamed: 19', 'Unnamed: 20'], axis=1, inplace=True)"
   ]
  },
  {
   "cell_type": "code",
   "execution_count": 34,
   "id": "57fd30ae",
   "metadata": {},
   "outputs": [
    {
     "data": {
      "text/plain": [
       "Index(['first_name', 'last_name', 'gender',\n",
       "       'past_3_years_bike_related_purchases', 'DOB', 'job_title',\n",
       "       'job_industry_category', 'wealth_segment', 'deceased_indicator',\n",
       "       'owns_car', 'tenure', 'address', 'postcode', 'state', 'country',\n",
       "       'property_valuation', 'Rank', 'Value'],\n",
       "      dtype='object')"
      ]
     },
     "execution_count": 34,
     "metadata": {},
     "output_type": "execute_result"
    }
   ],
   "source": [
    "#check columns again\n",
    "NewCustomerList.columns"
   ]
  },
  {
   "cell_type": "code",
   "execution_count": 35,
   "id": "de04d498",
   "metadata": {},
   "outputs": [
    {
     "data": {
      "text/plain": [
       "(1000, 18)"
      ]
     },
     "execution_count": 35,
     "metadata": {},
     "output_type": "execute_result"
    }
   ],
   "source": [
    "#check shape of data\n",
    "NewCustomerList.shape"
   ]
  },
  {
   "cell_type": "code",
   "execution_count": 36,
   "id": "d2556ad2",
   "metadata": {},
   "outputs": [
    {
     "name": "stdout",
     "output_type": "stream",
     "text": [
      "<class 'pandas.core.frame.DataFrame'>\n",
      "RangeIndex: 1000 entries, 0 to 999\n",
      "Data columns (total 18 columns):\n",
      " #   Column                               Non-Null Count  Dtype         \n",
      "---  ------                               --------------  -----         \n",
      " 0   first_name                           1000 non-null   object        \n",
      " 1   last_name                            971 non-null    object        \n",
      " 2   gender                               1000 non-null   object        \n",
      " 3   past_3_years_bike_related_purchases  1000 non-null   int64         \n",
      " 4   DOB                                  983 non-null    datetime64[ns]\n",
      " 5   job_title                            894 non-null    object        \n",
      " 6   job_industry_category                835 non-null    object        \n",
      " 7   wealth_segment                       1000 non-null   object        \n",
      " 8   deceased_indicator                   1000 non-null   object        \n",
      " 9   owns_car                             1000 non-null   object        \n",
      " 10  tenure                               1000 non-null   int64         \n",
      " 11  address                              1000 non-null   object        \n",
      " 12  postcode                             1000 non-null   int64         \n",
      " 13  state                                1000 non-null   object        \n",
      " 14  country                              1000 non-null   object        \n",
      " 15  property_valuation                   1000 non-null   int64         \n",
      " 16  Rank                                 1000 non-null   int64         \n",
      " 17  Value                                1000 non-null   float64       \n",
      "dtypes: datetime64[ns](1), float64(1), int64(5), object(11)\n",
      "memory usage: 140.8+ KB\n"
     ]
    }
   ],
   "source": [
    "#get more information about data\n",
    "NewCustomerList.info()"
   ]
  },
  {
   "cell_type": "code",
   "execution_count": 37,
   "id": "fc2bb5ce",
   "metadata": {},
   "outputs": [
    {
     "data": {
      "text/plain": [
       "0"
      ]
     },
     "execution_count": 37,
     "metadata": {},
     "output_type": "execute_result"
    }
   ],
   "source": [
    "#check duplicated values in NewCustomerList data\n",
    "NewCustomerList.duplicated().sum()"
   ]
  },
  {
   "cell_type": "code",
   "execution_count": 38,
   "id": "29740099",
   "metadata": {},
   "outputs": [
    {
     "data": {
      "text/plain": [
       "first_name                               0\n",
       "last_name                               29\n",
       "gender                                   0\n",
       "past_3_years_bike_related_purchases      0\n",
       "DOB                                     17\n",
       "job_title                              106\n",
       "job_industry_category                  165\n",
       "wealth_segment                           0\n",
       "deceased_indicator                       0\n",
       "owns_car                                 0\n",
       "tenure                                   0\n",
       "address                                  0\n",
       "postcode                                 0\n",
       "state                                    0\n",
       "country                                  0\n",
       "property_valuation                       0\n",
       "Rank                                     0\n",
       "Value                                    0\n",
       "dtype: int64"
      ]
     },
     "execution_count": 38,
     "metadata": {},
     "output_type": "execute_result"
    }
   ],
   "source": [
    "#check null values in NewCustomerList data\n",
    "NewCustomerList.isnull().sum()"
   ]
  },
  {
   "cell_type": "markdown",
   "id": "090e1d33",
   "metadata": {},
   "source": [
    "***I get four columns that contains null values, I will drop nulls***"
   ]
  },
  {
   "cell_type": "code",
   "execution_count": 39,
   "id": "095fde91",
   "metadata": {},
   "outputs": [],
   "source": [
    "#drop nulls \n",
    "NewCustomerList.dropna(inplace=True)"
   ]
  },
  {
   "cell_type": "code",
   "execution_count": 40,
   "id": "e12198aa",
   "metadata": {},
   "outputs": [
    {
     "data": {
      "text/plain": [
       "first_name                             0\n",
       "last_name                              0\n",
       "gender                                 0\n",
       "past_3_years_bike_related_purchases    0\n",
       "DOB                                    0\n",
       "job_title                              0\n",
       "job_industry_category                  0\n",
       "wealth_segment                         0\n",
       "deceased_indicator                     0\n",
       "owns_car                               0\n",
       "tenure                                 0\n",
       "address                                0\n",
       "postcode                               0\n",
       "state                                  0\n",
       "country                                0\n",
       "property_valuation                     0\n",
       "Rank                                   0\n",
       "Value                                  0\n",
       "dtype: int64"
      ]
     },
     "execution_count": 40,
     "metadata": {},
     "output_type": "execute_result"
    }
   ],
   "source": [
    "#check null values in NewCustomerList data\n",
    "NewCustomerList.isnull().sum()"
   ]
  },
  {
   "cell_type": "code",
   "execution_count": 41,
   "id": "c485555e",
   "metadata": {},
   "outputs": [
    {
     "data": {
      "text/plain": [
       "Female    369\n",
       "Male      346\n",
       "Name: gender, dtype: int64"
      ]
     },
     "execution_count": 41,
     "metadata": {},
     "output_type": "execute_result"
    }
   ],
   "source": [
    "#check null values in gender data\n",
    "NewCustomerList.gender.value_counts()"
   ]
  },
  {
   "cell_type": "code",
   "execution_count": 42,
   "id": "123476c8",
   "metadata": {},
   "outputs": [
    {
     "data": {
      "text/plain": [
       "count    715.000000\n",
       "mean      49.806993\n",
       "std       27.735227\n",
       "min        0.000000\n",
       "25%       27.000000\n",
       "50%       51.000000\n",
       "75%       71.500000\n",
       "max       99.000000\n",
       "Name: past_3_years_bike_related_purchases, dtype: float64"
      ]
     },
     "execution_count": 42,
     "metadata": {},
     "output_type": "execute_result"
    }
   ],
   "source": [
    "# check summary statistics for past_3_years_bike_related_purchases columns\n",
    "NewCustomerList.past_3_years_bike_related_purchases.describe()"
   ]
  },
  {
   "cell_type": "code",
   "execution_count": 43,
   "id": "d5903bad",
   "metadata": {},
   "outputs": [
    {
     "data": {
      "text/plain": [
       "1963-08-25    2\n",
       "1992-10-13    2\n",
       "1959-09-18    2\n",
       "1971-04-26    2\n",
       "1974-12-25    2\n",
       "             ..\n",
       "1986-01-10    1\n",
       "1977-09-11    1\n",
       "2002-01-04    1\n",
       "1990-07-06    1\n",
       "1991-01-23    1\n",
       "Name: DOB, Length: 702, dtype: int64"
      ]
     },
     "execution_count": 43,
     "metadata": {},
     "output_type": "execute_result"
    }
   ],
   "source": [
    "#check values in DOB columns in dataset\n",
    "NewCustomerList.DOB.value_counts()"
   ]
  },
  {
   "cell_type": "code",
   "execution_count": 44,
   "id": "103e3190",
   "metadata": {},
   "outputs": [
    {
     "data": {
      "text/plain": [
       "396   2002-01-17\n",
       "763   2002-01-04\n",
       "475   2001-12-29\n",
       "996   2001-10-17\n",
       "569   2001-09-27\n",
       "         ...    \n",
       "18    1938-11-09\n",
       "191   1938-10-16\n",
       "585   1938-08-30\n",
       "885   1938-06-09\n",
       "797   1938-06-08\n",
       "Name: DOB, Length: 715, dtype: datetime64[ns]"
      ]
     },
     "execution_count": 44,
     "metadata": {},
     "output_type": "execute_result"
    }
   ],
   "source": [
    "#check values in DOB columns in dataset\n",
    "NewCustomerList.DOB.sort_values(ascending=False)"
   ]
  },
  {
   "cell_type": "code",
   "execution_count": 45,
   "id": "4cfd49e3",
   "metadata": {},
   "outputs": [
    {
     "data": {
      "text/plain": [
       "array(['General Manager', 'Structural Engineer', 'Senior Cost Accountant',\n",
       "       'Account Representative III', 'Financial Analyst',\n",
       "       'Assistant Media Planner', 'Compensation Analyst',\n",
       "       'Human Resources Assistant II', 'Speech Pathologist',\n",
       "       'Accounting Assistant IV', 'Programmer Analyst I',\n",
       "       'Environmental Specialist', 'VP Marketing', 'Clinical Specialist',\n",
       "       'Associate Professor', 'Actuary', 'Internal Auditor',\n",
       "       'Programmer I', 'Account Executive', 'Engineer II', 'Nurse',\n",
       "       'Librarian', 'Paralegal', 'Assistant Manager',\n",
       "       'Senior Quality Engineer', 'Design Engineer',\n",
       "       'Business Systems Development Analyst', 'Cost Accountant',\n",
       "       'Product Engineer', 'Social Worker',\n",
       "       'Payment Adjustment Coordinator', 'Marketing Assistant',\n",
       "       'Recruiter', 'Developer I', 'Senior Financial Analyst',\n",
       "       'Electrical Engineer', 'Accountant IV', 'Human Resources Manager',\n",
       "       'Executive Secretary', 'Account Representative I',\n",
       "       'Dental Hygienist', 'GIS Technical Architect',\n",
       "       'Assistant Professor', 'Budget/Accounting Analyst IV',\n",
       "       'Research Nurse', 'Computer Systems Analyst IV',\n",
       "       'Analyst Programmer', 'Desktop Support Technician', 'Editor',\n",
       "       'Biostatistician IV', 'Database Administrator III',\n",
       "       'Physical Therapy Assistant', 'Director of Sales',\n",
       "       'Human Resources Assistant IV', 'Nurse Practicioner',\n",
       "       'Structural Analysis Engineer', 'Marketing Manager',\n",
       "       'Staff Accountant IV', 'VP Sales', 'Accountant III',\n",
       "       'Recruiting Manager', 'Sales Representative', 'Food Chemist',\n",
       "       'Staff Scientist', 'Geologist IV', 'Information Systems Manager',\n",
       "       'Junior Executive', 'Automation Specialist II',\n",
       "       'Software Consultant', 'Civil Engineer', 'Geological Engineer',\n",
       "       'Graphic Designer', 'Community Outreach Specialist',\n",
       "       'Programmer Analyst II', 'Pharmacist', 'Senior Editor',\n",
       "       'Sales Associate', 'Developer II', 'Teacher', 'Staff Accountant I',\n",
       "       'Environmental Tech', 'Account Coordinator', 'Health Coach II',\n",
       "       'Programmer Analyst III', 'Geologist III', 'Senior Developer',\n",
       "       'Help Desk Technician', 'VP Quality Control',\n",
       "       'Research Assistant IV', 'Computer Systems Analyst I',\n",
       "       'Account Representative IV', 'Safety Technician I',\n",
       "       'VP Product Management', 'Analog Circuit Design manager',\n",
       "       'Research Assistant II', 'Chief Design Engineer',\n",
       "       'Legal Assistant', 'Occupational Therapist', 'Statistician I',\n",
       "       'Technical Writer', 'Health Coach IV',\n",
       "       'Mechanical Systems Engineer', 'Software Test Engineer IV',\n",
       "       'Nuclear Power Engineer', 'Software Engineer II', 'Engineer IV',\n",
       "       'Database Administrator II', 'Chemical Engineer',\n",
       "       'Office Assistant II', 'Research Associate',\n",
       "       'Database Administrator I', 'Senior Sales Associate',\n",
       "       'Financial Advisor', 'Systems Administrator I',\n",
       "       'Systems Administrator IV', 'Quality Engineer',\n",
       "       'Office Assistant I', 'Engineer III', 'Software Engineer I',\n",
       "       'Programmer III', 'Media Manager I', 'Data Coordiator',\n",
       "       'Web Developer IV', 'Registered Nurse', 'Media Manager IV',\n",
       "       'Computer Systems Analyst II', 'Web Designer I',\n",
       "       'Human Resources Assistant I', 'Help Desk Operator', 'Operator',\n",
       "       'Systems Administrator III', 'Software Engineer III',\n",
       "       'Automation Specialist IV', 'VP Accounting', 'Accountant II',\n",
       "       'Administrative Assistant II', 'Web Designer IV',\n",
       "       'Media Manager III', 'Administrative Officer',\n",
       "       'Office Assistant IV', 'Accounting Assistant III',\n",
       "       'Accounting Assistant I', 'Professor', 'Research Assistant III',\n",
       "       'Web Developer II', 'Programmer Analyst IV', 'Tax Accountant',\n",
       "       'Accountant I', 'Automation Specialist III', 'Media Manager II',\n",
       "       'Administrative Assistant I', 'Engineer I', 'Health Coach III',\n",
       "       'Statistician II', 'Developer III', 'Accounting Assistant II',\n",
       "       'Project Manager', 'Database Administrator IV',\n",
       "       'Budget/Accounting Analyst III', 'Software Test Engineer I',\n",
       "       'Health Coach I', 'Safety Technician IV',\n",
       "       'Computer Systems Analyst III', 'Budget/Accounting Analyst I',\n",
       "       'Staff Accountant III', 'Human Resources Assistant III',\n",
       "       'Statistician IV', 'Automation Specialist I',\n",
       "       'Systems Administrator II', 'Software Test Engineer II',\n",
       "       'Software Test Engineer III', 'Developer IV', 'Geologist I',\n",
       "       'Web Designer II', 'Web Developer I', 'Quality Control Specialist'],\n",
       "      dtype=object)"
      ]
     },
     "execution_count": 45,
     "metadata": {},
     "output_type": "execute_result"
    }
   ],
   "source": [
    "#check unique values in job_title column\n",
    "NewCustomerList.job_title.unique()"
   ]
  },
  {
   "cell_type": "code",
   "execution_count": 46,
   "id": "103b4aa6",
   "metadata": {},
   "outputs": [
    {
     "data": {
      "text/plain": [
       "Financial Services    182\n",
       "Manufacturing         171\n",
       "Health                135\n",
       "Retail                 73\n",
       "Property               49\n",
       "Entertainment          32\n",
       "IT                     29\n",
       "Argiculture            23\n",
       "Telecommunications     21\n",
       "Name: job_industry_category, dtype: int64"
      ]
     },
     "execution_count": 46,
     "metadata": {},
     "output_type": "execute_result"
    }
   ],
   "source": [
    "#check value counts in job_industry_category column\n",
    "NewCustomerList.job_industry_category.value_counts()"
   ]
  },
  {
   "cell_type": "code",
   "execution_count": 47,
   "id": "8fccdf5a",
   "metadata": {},
   "outputs": [
    {
     "data": {
      "text/plain": [
       "Mass Customer        362\n",
       "High Net Worth       180\n",
       "Affluent Customer    173\n",
       "Name: wealth_segment, dtype: int64"
      ]
     },
     "execution_count": 47,
     "metadata": {},
     "output_type": "execute_result"
    }
   ],
   "source": [
    "#check value counts in wealth_segment column\n",
    "NewCustomerList.wealth_segment.value_counts()"
   ]
  },
  {
   "cell_type": "code",
   "execution_count": 48,
   "id": "41a3bde6",
   "metadata": {},
   "outputs": [
    {
     "data": {
      "text/plain": [
       "N    715\n",
       "Name: deceased_indicator, dtype: int64"
      ]
     },
     "execution_count": 48,
     "metadata": {},
     "output_type": "execute_result"
    }
   ],
   "source": [
    "#check value counts in deceased_indicator column\n",
    "NewCustomerList.deceased_indicator.value_counts()"
   ]
  },
  {
   "cell_type": "code",
   "execution_count": 49,
   "id": "91004f40",
   "metadata": {},
   "outputs": [
    {
     "data": {
      "text/plain": [
       "No     366\n",
       "Yes    349\n",
       "Name: owns_car, dtype: int64"
      ]
     },
     "execution_count": 49,
     "metadata": {},
     "output_type": "execute_result"
    }
   ],
   "source": [
    "#check value counts in owns_car  column\n",
    "NewCustomerList.owns_car.value_counts()"
   ]
  },
  {
   "cell_type": "code",
   "execution_count": 50,
   "id": "0b2a2f94",
   "metadata": {},
   "outputs": [
    {
     "data": {
      "text/plain": [
       "count    715.000000\n",
       "mean      11.349650\n",
       "std        5.011274\n",
       "min        1.000000\n",
       "25%        7.000000\n",
       "50%       11.000000\n",
       "75%       15.000000\n",
       "max       22.000000\n",
       "Name: tenure, dtype: float64"
      ]
     },
     "execution_count": 50,
     "metadata": {},
     "output_type": "execute_result"
    }
   ],
   "source": [
    "#check summary statistic for tenure column\n",
    "NewCustomerList.tenure.describe()"
   ]
  },
  {
   "cell_type": "code",
   "execution_count": 51,
   "id": "5ee914a6",
   "metadata": {},
   "outputs": [
    {
     "data": {
      "text/plain": [
       "count     715.000000\n",
       "mean      507.942657\n",
       "std       290.855597\n",
       "min         1.000000\n",
       "25%       252.000000\n",
       "50%       524.000000\n",
       "75%       760.000000\n",
       "max      1000.000000\n",
       "Name: Rank, dtype: float64"
      ]
     },
     "execution_count": 51,
     "metadata": {},
     "output_type": "execute_result"
    }
   ],
   "source": [
    "#check summary statistic for rank column\n",
    "NewCustomerList.Rank.describe()"
   ]
  },
  {
   "cell_type": "code",
   "execution_count": 52,
   "id": "05ca9e15",
   "metadata": {},
   "outputs": [
    {
     "data": {
      "text/plain": [
       "25 Westerfield Road         1\n",
       "900 Victoria Way            1\n",
       "6 Prairieview Pass          1\n",
       "1 Bluejay Place             1\n",
       "18 Sage Plaza               1\n",
       "                           ..\n",
       "6227 Quincy Terrace         1\n",
       "14183 Iowa Center           1\n",
       "261 Grayhawk Way            1\n",
       "11 Brickson Park Alley      1\n",
       "98221 Pennsylvania Place    1\n",
       "Name: address, Length: 715, dtype: int64"
      ]
     },
     "execution_count": 52,
     "metadata": {},
     "output_type": "execute_result"
    }
   ],
   "source": [
    "#check value counts in address  column\n",
    "NewCustomerList.address.value_counts()                                "
   ]
  },
  {
   "cell_type": "code",
   "execution_count": 53,
   "id": "81a620e1",
   "metadata": {},
   "outputs": [
    {
     "data": {
      "text/plain": [
       "2232    7\n",
       "3029    7\n",
       "2148    6\n",
       "4207    6\n",
       "2145    6\n",
       "       ..\n",
       "2082    1\n",
       "4818    1\n",
       "2330    1\n",
       "2022    1\n",
       "2047    1\n",
       "Name: postcode, Length: 435, dtype: int64"
      ]
     },
     "execution_count": 53,
     "metadata": {},
     "output_type": "execute_result"
    }
   ],
   "source": [
    "#check value counts in postcode  column\n",
    "NewCustomerList.postcode.value_counts()                                 "
   ]
  },
  {
   "cell_type": "code",
   "execution_count": 54,
   "id": "733439f2",
   "metadata": {},
   "outputs": [
    {
     "data": {
      "text/plain": [
       "Australia    715\n",
       "Name: country, dtype: int64"
      ]
     },
     "execution_count": 54,
     "metadata": {},
     "output_type": "execute_result"
    }
   ],
   "source": [
    "#check value counts in country  column\n",
    "NewCustomerList.country.value_counts()                                 "
   ]
  },
  {
   "cell_type": "code",
   "execution_count": 55,
   "id": "e1151e92",
   "metadata": {},
   "outputs": [
    {
     "data": {
      "text/plain": [
       "NSW    352\n",
       "VIC    197\n",
       "QLD    166\n",
       "Name: state, dtype: int64"
      ]
     },
     "execution_count": 55,
     "metadata": {},
     "output_type": "execute_result"
    }
   ],
   "source": [
    "#check value counts in state  column\n",
    "NewCustomerList.state.value_counts()                                 "
   ]
  },
  {
   "cell_type": "code",
   "execution_count": 56,
   "id": "21949e59",
   "metadata": {},
   "outputs": [
    {
     "data": {
      "text/plain": [
       "count    715.000000\n",
       "mean       7.386014\n",
       "std        2.830274\n",
       "min        1.000000\n",
       "25%        6.000000\n",
       "50%        8.000000\n",
       "75%        9.000000\n",
       "max       12.000000\n",
       "Name: property_valuation, dtype: float64"
      ]
     },
     "execution_count": 56,
     "metadata": {},
     "output_type": "execute_result"
    }
   ],
   "source": [
    "#check summary statistic for property_valuation column\n",
    "NewCustomerList.property_valuation.describe()                                 "
   ]
  },
  {
   "cell_type": "code",
   "execution_count": 57,
   "id": "7e12d7f3",
   "metadata": {},
   "outputs": [
    {
     "data": {
      "text/plain": [
       "count    715.000000\n",
       "mean       0.873785\n",
       "std        0.296971\n",
       "min        0.340000\n",
       "25%        0.637500\n",
       "50%        0.836719\n",
       "75%        1.073125\n",
       "max        1.718750\n",
       "Name: Value, dtype: float64"
      ]
     },
     "execution_count": 57,
     "metadata": {},
     "output_type": "execute_result"
    }
   ],
   "source": [
    "#check summary statistic for Value column\n",
    "NewCustomerList.Value.describe()"
   ]
  },
  {
   "cell_type": "markdown",
   "id": "654dd3c6",
   "metadata": {},
   "source": [
    "# Exploring Transactions Dataset"
   ]
  },
  {
   "cell_type": "code",
   "execution_count": 58,
   "id": "d81000f4",
   "metadata": {},
   "outputs": [
    {
     "data": {
      "text/html": [
       "<div>\n",
       "<style scoped>\n",
       "    .dataframe tbody tr th:only-of-type {\n",
       "        vertical-align: middle;\n",
       "    }\n",
       "\n",
       "    .dataframe tbody tr th {\n",
       "        vertical-align: top;\n",
       "    }\n",
       "\n",
       "    .dataframe thead th {\n",
       "        text-align: right;\n",
       "    }\n",
       "</style>\n",
       "<table border=\"1\" class=\"dataframe\">\n",
       "  <thead>\n",
       "    <tr style=\"text-align: right;\">\n",
       "      <th></th>\n",
       "      <th>transaction_id</th>\n",
       "      <th>product_id</th>\n",
       "      <th>customer_id</th>\n",
       "      <th>transaction_date</th>\n",
       "      <th>online_order</th>\n",
       "      <th>order_status</th>\n",
       "      <th>brand</th>\n",
       "      <th>product_line</th>\n",
       "      <th>product_class</th>\n",
       "      <th>product_size</th>\n",
       "      <th>...</th>\n",
       "      <th>Unnamed: 16</th>\n",
       "      <th>Unnamed: 17</th>\n",
       "      <th>Unnamed: 18</th>\n",
       "      <th>Unnamed: 19</th>\n",
       "      <th>Unnamed: 20</th>\n",
       "      <th>Unnamed: 21</th>\n",
       "      <th>Unnamed: 22</th>\n",
       "      <th>Unnamed: 23</th>\n",
       "      <th>Unnamed: 24</th>\n",
       "      <th>Unnamed: 25</th>\n",
       "    </tr>\n",
       "  </thead>\n",
       "  <tbody>\n",
       "    <tr>\n",
       "      <th>0</th>\n",
       "      <td>1</td>\n",
       "      <td>2</td>\n",
       "      <td>2950</td>\n",
       "      <td>2017-02-25</td>\n",
       "      <td>0.0</td>\n",
       "      <td>Approved</td>\n",
       "      <td>Solex</td>\n",
       "      <td>Standard</td>\n",
       "      <td>medium</td>\n",
       "      <td>medium</td>\n",
       "      <td>...</td>\n",
       "      <td>NaN</td>\n",
       "      <td>NaN</td>\n",
       "      <td>NaN</td>\n",
       "      <td>NaN</td>\n",
       "      <td>NaN</td>\n",
       "      <td>NaN</td>\n",
       "      <td>NaN</td>\n",
       "      <td>NaN</td>\n",
       "      <td>NaN</td>\n",
       "      <td>NaN</td>\n",
       "    </tr>\n",
       "    <tr>\n",
       "      <th>1</th>\n",
       "      <td>2</td>\n",
       "      <td>3</td>\n",
       "      <td>3120</td>\n",
       "      <td>2017-05-21</td>\n",
       "      <td>1.0</td>\n",
       "      <td>Approved</td>\n",
       "      <td>Trek Bicycles</td>\n",
       "      <td>Standard</td>\n",
       "      <td>medium</td>\n",
       "      <td>large</td>\n",
       "      <td>...</td>\n",
       "      <td>NaN</td>\n",
       "      <td>NaN</td>\n",
       "      <td>NaN</td>\n",
       "      <td>NaN</td>\n",
       "      <td>NaN</td>\n",
       "      <td>NaN</td>\n",
       "      <td>NaN</td>\n",
       "      <td>NaN</td>\n",
       "      <td>NaN</td>\n",
       "      <td>NaN</td>\n",
       "    </tr>\n",
       "    <tr>\n",
       "      <th>2</th>\n",
       "      <td>3</td>\n",
       "      <td>37</td>\n",
       "      <td>402</td>\n",
       "      <td>2017-10-16</td>\n",
       "      <td>0.0</td>\n",
       "      <td>Approved</td>\n",
       "      <td>OHM Cycles</td>\n",
       "      <td>Standard</td>\n",
       "      <td>low</td>\n",
       "      <td>medium</td>\n",
       "      <td>...</td>\n",
       "      <td>NaN</td>\n",
       "      <td>NaN</td>\n",
       "      <td>NaN</td>\n",
       "      <td>NaN</td>\n",
       "      <td>NaN</td>\n",
       "      <td>NaN</td>\n",
       "      <td>NaN</td>\n",
       "      <td>NaN</td>\n",
       "      <td>NaN</td>\n",
       "      <td>NaN</td>\n",
       "    </tr>\n",
       "    <tr>\n",
       "      <th>3</th>\n",
       "      <td>4</td>\n",
       "      <td>88</td>\n",
       "      <td>3135</td>\n",
       "      <td>2017-08-31</td>\n",
       "      <td>0.0</td>\n",
       "      <td>Approved</td>\n",
       "      <td>Norco Bicycles</td>\n",
       "      <td>Standard</td>\n",
       "      <td>medium</td>\n",
       "      <td>medium</td>\n",
       "      <td>...</td>\n",
       "      <td>NaN</td>\n",
       "      <td>NaN</td>\n",
       "      <td>NaN</td>\n",
       "      <td>NaN</td>\n",
       "      <td>NaN</td>\n",
       "      <td>NaN</td>\n",
       "      <td>NaN</td>\n",
       "      <td>NaN</td>\n",
       "      <td>NaN</td>\n",
       "      <td>NaN</td>\n",
       "    </tr>\n",
       "    <tr>\n",
       "      <th>4</th>\n",
       "      <td>5</td>\n",
       "      <td>78</td>\n",
       "      <td>787</td>\n",
       "      <td>2017-10-01</td>\n",
       "      <td>1.0</td>\n",
       "      <td>Approved</td>\n",
       "      <td>Giant Bicycles</td>\n",
       "      <td>Standard</td>\n",
       "      <td>medium</td>\n",
       "      <td>large</td>\n",
       "      <td>...</td>\n",
       "      <td>NaN</td>\n",
       "      <td>NaN</td>\n",
       "      <td>NaN</td>\n",
       "      <td>NaN</td>\n",
       "      <td>NaN</td>\n",
       "      <td>NaN</td>\n",
       "      <td>NaN</td>\n",
       "      <td>NaN</td>\n",
       "      <td>NaN</td>\n",
       "      <td>NaN</td>\n",
       "    </tr>\n",
       "  </tbody>\n",
       "</table>\n",
       "<p>5 rows × 26 columns</p>\n",
       "</div>"
      ],
      "text/plain": [
       "   transaction_id  product_id  customer_id transaction_date  online_order  \\\n",
       "0               1           2         2950       2017-02-25           0.0   \n",
       "1               2           3         3120       2017-05-21           1.0   \n",
       "2               3          37          402       2017-10-16           0.0   \n",
       "3               4          88         3135       2017-08-31           0.0   \n",
       "4               5          78          787       2017-10-01           1.0   \n",
       "\n",
       "  order_status           brand product_line product_class product_size  ...  \\\n",
       "0     Approved           Solex     Standard        medium       medium  ...   \n",
       "1     Approved   Trek Bicycles     Standard        medium        large  ...   \n",
       "2     Approved      OHM Cycles     Standard           low       medium  ...   \n",
       "3     Approved  Norco Bicycles     Standard        medium       medium  ...   \n",
       "4     Approved  Giant Bicycles     Standard        medium        large  ...   \n",
       "\n",
       "   Unnamed: 16  Unnamed: 17  Unnamed: 18  Unnamed: 19  Unnamed: 20  \\\n",
       "0          NaN          NaN          NaN          NaN          NaN   \n",
       "1          NaN          NaN          NaN          NaN          NaN   \n",
       "2          NaN          NaN          NaN          NaN          NaN   \n",
       "3          NaN          NaN          NaN          NaN          NaN   \n",
       "4          NaN          NaN          NaN          NaN          NaN   \n",
       "\n",
       "   Unnamed: 21  Unnamed: 22  Unnamed: 23  Unnamed: 24  Unnamed: 25  \n",
       "0          NaN          NaN          NaN          NaN          NaN  \n",
       "1          NaN          NaN          NaN          NaN          NaN  \n",
       "2          NaN          NaN          NaN          NaN          NaN  \n",
       "3          NaN          NaN          NaN          NaN          NaN  \n",
       "4          NaN          NaN          NaN          NaN          NaN  \n",
       "\n",
       "[5 rows x 26 columns]"
      ]
     },
     "execution_count": 58,
     "metadata": {},
     "output_type": "execute_result"
    }
   ],
   "source": [
    "# the first rows in dataset\n",
    "Transactions.head()"
   ]
  },
  {
   "cell_type": "code",
   "execution_count": 59,
   "id": "4f34f146",
   "metadata": {},
   "outputs": [
    {
     "data": {
      "text/plain": [
       "(20000, 26)"
      ]
     },
     "execution_count": 59,
     "metadata": {},
     "output_type": "execute_result"
    }
   ],
   "source": [
    "#shape of dataset\n",
    "Transactions.shape"
   ]
  },
  {
   "cell_type": "code",
   "execution_count": 60,
   "id": "c0e75da4",
   "metadata": {},
   "outputs": [
    {
     "name": "stdout",
     "output_type": "stream",
     "text": [
      "<class 'pandas.core.frame.DataFrame'>\n",
      "RangeIndex: 20000 entries, 0 to 19999\n",
      "Data columns (total 26 columns):\n",
      " #   Column                   Non-Null Count  Dtype         \n",
      "---  ------                   --------------  -----         \n",
      " 0   transaction_id           20000 non-null  int64         \n",
      " 1   product_id               20000 non-null  int64         \n",
      " 2   customer_id              20000 non-null  int64         \n",
      " 3   transaction_date         20000 non-null  datetime64[ns]\n",
      " 4   online_order             19640 non-null  float64       \n",
      " 5   order_status             20000 non-null  object        \n",
      " 6   brand                    19803 non-null  object        \n",
      " 7   product_line             19803 non-null  object        \n",
      " 8   product_class            19803 non-null  object        \n",
      " 9   product_size             19803 non-null  object        \n",
      " 10  list_price               20000 non-null  float64       \n",
      " 11  standard_cost            19803 non-null  float64       \n",
      " 12  product_first_sold_date  19803 non-null  float64       \n",
      " 13  Unnamed: 13              0 non-null      float64       \n",
      " 14  Unnamed: 14              0 non-null      float64       \n",
      " 15  Unnamed: 15              0 non-null      float64       \n",
      " 16  Unnamed: 16              0 non-null      float64       \n",
      " 17  Unnamed: 17              0 non-null      float64       \n",
      " 18  Unnamed: 18              0 non-null      float64       \n",
      " 19  Unnamed: 19              0 non-null      float64       \n",
      " 20  Unnamed: 20              0 non-null      float64       \n",
      " 21  Unnamed: 21              0 non-null      float64       \n",
      " 22  Unnamed: 22              0 non-null      float64       \n",
      " 23  Unnamed: 23              0 non-null      float64       \n",
      " 24  Unnamed: 24              0 non-null      float64       \n",
      " 25  Unnamed: 25              0 non-null      float64       \n",
      "dtypes: datetime64[ns](1), float64(17), int64(3), object(5)\n",
      "memory usage: 4.0+ MB\n"
     ]
    }
   ],
   "source": [
    "#get more information about dataset\n",
    "Transactions.info()"
   ]
  },
  {
   "cell_type": "code",
   "execution_count": 61,
   "id": "4343435b",
   "metadata": {},
   "outputs": [
    {
     "data": {
      "text/plain": [
       "Index(['transaction_id', 'product_id', 'customer_id', 'transaction_date',\n",
       "       'online_order', 'order_status', 'brand', 'product_line',\n",
       "       'product_class', 'product_size', 'list_price', 'standard_cost',\n",
       "       'product_first_sold_date', 'Unnamed: 13', 'Unnamed: 14', 'Unnamed: 15',\n",
       "       'Unnamed: 16', 'Unnamed: 17', 'Unnamed: 18', 'Unnamed: 19',\n",
       "       'Unnamed: 20', 'Unnamed: 21', 'Unnamed: 22', 'Unnamed: 23',\n",
       "       'Unnamed: 24', 'Unnamed: 25'],\n",
       "      dtype='object')"
      ]
     },
     "execution_count": 61,
     "metadata": {},
     "output_type": "execute_result"
    }
   ],
   "source": [
    "#check columns names of data set\n",
    "Transactions.columns"
   ]
  },
  {
   "cell_type": "markdown",
   "id": "d0dc155b",
   "metadata": {},
   "source": [
    "***I will drop all unnmaned columns***"
   ]
  },
  {
   "cell_type": "code",
   "execution_count": 62,
   "id": "29680fb2",
   "metadata": {},
   "outputs": [],
   "source": [
    "#Dropping the unnamed columns\n",
    "Transactions.drop(['Unnamed: 13', 'Unnamed: 14', 'Unnamed: 15',\n",
    "       'Unnamed: 16', 'Unnamed: 17', 'Unnamed: 18', 'Unnamed: 19',\n",
    "       'Unnamed: 20', 'Unnamed: 21', 'Unnamed: 22', 'Unnamed: 23', 'Unnamed: 24', 'Unnamed: 25'], axis=1, inplace=True)"
   ]
  },
  {
   "cell_type": "code",
   "execution_count": 65,
   "id": "65369b7e",
   "metadata": {},
   "outputs": [
    {
     "data": {
      "text/plain": [
       "Index(['transaction_id', 'product_id', 'customer_id', 'transaction_date',\n",
       "       'online_order', 'order_status', 'brand', 'product_line',\n",
       "       'product_class', 'product_size', 'list_price', 'standard_cost',\n",
       "       'product_first_sold_date'],\n",
       "      dtype='object')"
      ]
     },
     "execution_count": 65,
     "metadata": {},
     "output_type": "execute_result"
    }
   ],
   "source": [
    "#check columns names of data set again\n",
    "Transactions.columns"
   ]
  },
  {
   "cell_type": "code",
   "execution_count": 66,
   "id": "80d8db7d",
   "metadata": {},
   "outputs": [
    {
     "data": {
      "text/plain": [
       "0"
      ]
     },
     "execution_count": 66,
     "metadata": {},
     "output_type": "execute_result"
    }
   ],
   "source": [
    "#check duplicated values in Transactions dataset\n",
    "Transactions.duplicated().sum()"
   ]
  },
  {
   "cell_type": "code",
   "execution_count": 67,
   "id": "c2ac97a0",
   "metadata": {},
   "outputs": [
    {
     "data": {
      "text/plain": [
       "transaction_id               0\n",
       "product_id                   0\n",
       "customer_id                  0\n",
       "transaction_date             0\n",
       "online_order               360\n",
       "order_status                 0\n",
       "brand                      197\n",
       "product_line               197\n",
       "product_class              197\n",
       "product_size               197\n",
       "list_price                   0\n",
       "standard_cost              197\n",
       "product_first_sold_date    197\n",
       "dtype: int64"
      ]
     },
     "execution_count": 67,
     "metadata": {},
     "output_type": "execute_result"
    }
   ],
   "source": [
    "#check null values in Transactions dataset\n",
    "Transactions.isnull().sum()"
   ]
  },
  {
   "cell_type": "code",
   "execution_count": 68,
   "id": "d822a6eb",
   "metadata": {},
   "outputs": [],
   "source": [
    "#drop nulls \n",
    "Transactions.dropna(inplace=True)"
   ]
  },
  {
   "cell_type": "code",
   "execution_count": 69,
   "id": "b9ea7956",
   "metadata": {},
   "outputs": [
    {
     "data": {
      "text/plain": [
       "transaction_id             0\n",
       "product_id                 0\n",
       "customer_id                0\n",
       "transaction_date           0\n",
       "online_order               0\n",
       "order_status               0\n",
       "brand                      0\n",
       "product_line               0\n",
       "product_class              0\n",
       "product_size               0\n",
       "list_price                 0\n",
       "standard_cost              0\n",
       "product_first_sold_date    0\n",
       "dtype: int64"
      ]
     },
     "execution_count": 69,
     "metadata": {},
     "output_type": "execute_result"
    }
   ],
   "source": [
    "#check null values in Transactions dataset again\n",
    "Transactions.isnull().sum()"
   ]
  },
  {
   "cell_type": "markdown",
   "id": "5985af2f",
   "metadata": {},
   "source": [
    "***I get seven columns that contains null values, I will drop nulls***"
   ]
  },
  {
   "cell_type": "code",
   "execution_count": 70,
   "id": "056989d6",
   "metadata": {},
   "outputs": [
    {
     "data": {
      "text/plain": [
       "2017-08-18    81\n",
       "2017-02-14    81\n",
       "2017-10-15    73\n",
       "2017-01-31    72\n",
       "2017-12-19    70\n",
       "              ..\n",
       "2017-03-31    37\n",
       "2017-01-12    36\n",
       "2017-09-25    35\n",
       "2017-03-29    34\n",
       "2017-10-19    32\n",
       "Name: transaction_date, Length: 364, dtype: int64"
      ]
     },
     "execution_count": 70,
     "metadata": {},
     "output_type": "execute_result"
    }
   ],
   "source": [
    "#check values in transaction_date column\n",
    "Transactions.transaction_date.value_counts()"
   ]
  },
  {
   "cell_type": "code",
   "execution_count": 71,
   "id": "005e52ad",
   "metadata": {},
   "outputs": [
    {
     "data": {
      "text/plain": [
       "12421   2017-01-01\n",
       "17838   2017-01-01\n",
       "3524    2017-01-01\n",
       "11281   2017-01-01\n",
       "6458    2017-01-01\n",
       "           ...    \n",
       "9157    2017-12-30\n",
       "5041    2017-12-30\n",
       "252     2017-12-30\n",
       "4008    2017-12-30\n",
       "4941    2017-12-30\n",
       "Name: transaction_date, Length: 19445, dtype: datetime64[ns]"
      ]
     },
     "execution_count": 71,
     "metadata": {},
     "output_type": "execute_result"
    }
   ],
   "source": [
    "#check values in transaction_date column\n",
    "Transactions.transaction_date.sort_values()"
   ]
  },
  {
   "cell_type": "code",
   "execution_count": 72,
   "id": "3247a1a3",
   "metadata": {},
   "outputs": [
    {
     "data": {
      "text/plain": [
       "1.0    9739\n",
       "0.0    9706\n",
       "Name: online_order, dtype: int64"
      ]
     },
     "execution_count": 72,
     "metadata": {},
     "output_type": "execute_result"
    }
   ],
   "source": [
    "#check values in online_order column\n",
    "Transactions.online_order.value_counts()"
   ]
  },
  {
   "cell_type": "markdown",
   "id": "86666c9d",
   "metadata": {},
   "source": [
    "***change data type for this column to boolean***"
   ]
  },
  {
   "cell_type": "code",
   "execution_count": 73,
   "id": "39bc0342",
   "metadata": {},
   "outputs": [
    {
     "data": {
      "text/plain": [
       "0        False\n",
       "1         True\n",
       "2        False\n",
       "3        False\n",
       "4         True\n",
       "         ...  \n",
       "19995     True\n",
       "19996     True\n",
       "19997     True\n",
       "19998    False\n",
       "19999     True\n",
       "Name: online_order, Length: 19445, dtype: bool"
      ]
     },
     "execution_count": 73,
     "metadata": {},
     "output_type": "execute_result"
    }
   ],
   "source": [
    "#change data type for online_order column to boolean\n",
    "Transactions.online_order.astype('bool')"
   ]
  },
  {
   "cell_type": "code",
   "execution_count": 74,
   "id": "c5fb4032",
   "metadata": {},
   "outputs": [
    {
     "data": {
      "text/plain": [
       "Approved     19273\n",
       "Cancelled      172\n",
       "Name: order_status, dtype: int64"
      ]
     },
     "execution_count": 74,
     "metadata": {},
     "output_type": "execute_result"
    }
   ],
   "source": [
    "#check values in order_status column\n",
    "Transactions.order_status.value_counts()"
   ]
  },
  {
   "cell_type": "code",
   "execution_count": 75,
   "id": "8fedbb15",
   "metadata": {},
   "outputs": [
    {
     "data": {
      "text/plain": [
       "Solex             4169\n",
       "WeareA2B          3245\n",
       "Giant Bicycles    3244\n",
       "OHM Cycles        2993\n",
       "Trek Bicycles     2931\n",
       "Norco Bicycles    2863\n",
       "Name: brand, dtype: int64"
      ]
     },
     "execution_count": 75,
     "metadata": {},
     "output_type": "execute_result"
    }
   ],
   "source": [
    "#check values in brand column\n",
    "Transactions.brand.value_counts()"
   ]
  },
  {
   "cell_type": "code",
   "execution_count": 76,
   "id": "385c2f2e",
   "metadata": {},
   "outputs": [
    {
     "data": {
      "text/plain": [
       "Standard    13920\n",
       "Road         3894\n",
       "Touring      1213\n",
       "Mountain      418\n",
       "Name: product_line, dtype: int64"
      ]
     },
     "execution_count": 76,
     "metadata": {},
     "output_type": "execute_result"
    }
   ],
   "source": [
    "#check values in product_line column\n",
    "Transactions.product_line.value_counts()"
   ]
  },
  {
   "cell_type": "code",
   "execution_count": 77,
   "id": "a963da04",
   "metadata": {},
   "outputs": [
    {
     "data": {
      "text/plain": [
       "medium    13587\n",
       "high       2952\n",
       "low        2906\n",
       "Name: product_class, dtype: int64"
      ]
     },
     "execution_count": 77,
     "metadata": {},
     "output_type": "execute_result"
    }
   ],
   "source": [
    "#check values in product_class column\n",
    "Transactions.product_class.value_counts()"
   ]
  },
  {
   "cell_type": "code",
   "execution_count": 78,
   "id": "5a313bf6",
   "metadata": {},
   "outputs": [
    {
     "data": {
      "text/plain": [
       "medium    12767\n",
       "large      3900\n",
       "small      2778\n",
       "Name: product_size, dtype: int64"
      ]
     },
     "execution_count": 78,
     "metadata": {},
     "output_type": "execute_result"
    }
   ],
   "source": [
    "#check values in product_size column\n",
    "Transactions.product_size.value_counts()"
   ]
  },
  {
   "cell_type": "code",
   "execution_count": 79,
   "id": "00e20340",
   "metadata": {},
   "outputs": [
    {
     "data": {
      "text/plain": [
       "count    19445.000000\n",
       "mean      1107.337193\n",
       "std        582.662400\n",
       "min         12.010000\n",
       "25%        575.270000\n",
       "50%       1163.890000\n",
       "75%       1635.300000\n",
       "max       2091.470000\n",
       "Name: list_price, dtype: float64"
      ]
     },
     "execution_count": 79,
     "metadata": {},
     "output_type": "execute_result"
    }
   ],
   "source": [
    "#check summary statistics for list_price column\n",
    "Transactions.list_price.describe()"
   ]
  },
  {
   "cell_type": "code",
   "execution_count": 80,
   "id": "82d9d934",
   "metadata": {},
   "outputs": [
    {
     "data": {
      "text/plain": [
       "count    19445.000000\n",
       "mean       555.585260\n",
       "std        405.596541\n",
       "min          7.210000\n",
       "25%        215.140000\n",
       "50%        507.580000\n",
       "75%        795.100000\n",
       "max       1759.850000\n",
       "Name: standard_cost, dtype: float64"
      ]
     },
     "execution_count": 80,
     "metadata": {},
     "output_type": "execute_result"
    }
   ],
   "source": [
    "#check summary statistics for standard_cost column\n",
    "Transactions.standard_cost.describe()"
   ]
  },
  {
   "cell_type": "code",
   "execution_count": 81,
   "id": "4f4f7d98",
   "metadata": {},
   "outputs": [
    {
     "data": {
      "text/plain": [
       "count    19445.000000\n",
       "mean     38201.758653\n",
       "std       2878.067854\n",
       "min      33259.000000\n",
       "25%      35667.000000\n",
       "50%      38216.000000\n",
       "75%      40672.000000\n",
       "max      42710.000000\n",
       "Name: product_first_sold_date, dtype: float64"
      ]
     },
     "execution_count": 81,
     "metadata": {},
     "output_type": "execute_result"
    }
   ],
   "source": [
    "#check summary statistics for product_first_sold_date column\n",
    "Transactions.product_first_sold_date.describe()"
   ]
  },
  {
   "cell_type": "markdown",
   "id": "cb568f87",
   "metadata": {},
   "source": [
    "# Exploring CustomerAdress Dataset"
   ]
  },
  {
   "cell_type": "code",
   "execution_count": 82,
   "id": "b86f3934",
   "metadata": {},
   "outputs": [
    {
     "data": {
      "text/html": [
       "<div>\n",
       "<style scoped>\n",
       "    .dataframe tbody tr th:only-of-type {\n",
       "        vertical-align: middle;\n",
       "    }\n",
       "\n",
       "    .dataframe tbody tr th {\n",
       "        vertical-align: top;\n",
       "    }\n",
       "\n",
       "    .dataframe thead th {\n",
       "        text-align: right;\n",
       "    }\n",
       "</style>\n",
       "<table border=\"1\" class=\"dataframe\">\n",
       "  <thead>\n",
       "    <tr style=\"text-align: right;\">\n",
       "      <th></th>\n",
       "      <th>customer_id</th>\n",
       "      <th>address</th>\n",
       "      <th>postcode</th>\n",
       "      <th>state</th>\n",
       "      <th>country</th>\n",
       "      <th>property_valuation</th>\n",
       "    </tr>\n",
       "  </thead>\n",
       "  <tbody>\n",
       "    <tr>\n",
       "      <th>0</th>\n",
       "      <td>1</td>\n",
       "      <td>060 Morning Avenue</td>\n",
       "      <td>2016</td>\n",
       "      <td>New South Wales</td>\n",
       "      <td>Australia</td>\n",
       "      <td>10</td>\n",
       "    </tr>\n",
       "    <tr>\n",
       "      <th>1</th>\n",
       "      <td>2</td>\n",
       "      <td>6 Meadow Vale Court</td>\n",
       "      <td>2153</td>\n",
       "      <td>New South Wales</td>\n",
       "      <td>Australia</td>\n",
       "      <td>10</td>\n",
       "    </tr>\n",
       "    <tr>\n",
       "      <th>2</th>\n",
       "      <td>4</td>\n",
       "      <td>0 Holy Cross Court</td>\n",
       "      <td>4211</td>\n",
       "      <td>QLD</td>\n",
       "      <td>Australia</td>\n",
       "      <td>9</td>\n",
       "    </tr>\n",
       "    <tr>\n",
       "      <th>3</th>\n",
       "      <td>5</td>\n",
       "      <td>17979 Del Mar Point</td>\n",
       "      <td>2448</td>\n",
       "      <td>New South Wales</td>\n",
       "      <td>Australia</td>\n",
       "      <td>4</td>\n",
       "    </tr>\n",
       "    <tr>\n",
       "      <th>4</th>\n",
       "      <td>6</td>\n",
       "      <td>9 Oakridge Court</td>\n",
       "      <td>3216</td>\n",
       "      <td>VIC</td>\n",
       "      <td>Australia</td>\n",
       "      <td>9</td>\n",
       "    </tr>\n",
       "  </tbody>\n",
       "</table>\n",
       "</div>"
      ],
      "text/plain": [
       "   customer_id              address  postcode            state    country  \\\n",
       "0            1   060 Morning Avenue      2016  New South Wales  Australia   \n",
       "1            2  6 Meadow Vale Court      2153  New South Wales  Australia   \n",
       "2            4   0 Holy Cross Court      4211              QLD  Australia   \n",
       "3            5  17979 Del Mar Point      2448  New South Wales  Australia   \n",
       "4            6     9 Oakridge Court      3216              VIC  Australia   \n",
       "\n",
       "   property_valuation  \n",
       "0                  10  \n",
       "1                  10  \n",
       "2                   9  \n",
       "3                   4  \n",
       "4                   9  "
      ]
     },
     "execution_count": 82,
     "metadata": {},
     "output_type": "execute_result"
    }
   ],
   "source": [
    "# show the first rows in CustomerAdress data\n",
    "CustomerAddress.head()"
   ]
  },
  {
   "cell_type": "code",
   "execution_count": 83,
   "id": "1c67d41c",
   "metadata": {},
   "outputs": [
    {
     "data": {
      "text/plain": [
       "(3999, 6)"
      ]
     },
     "execution_count": 83,
     "metadata": {},
     "output_type": "execute_result"
    }
   ],
   "source": [
    "#shape of data \n",
    "CustomerAddress.shape"
   ]
  },
  {
   "cell_type": "code",
   "execution_count": 84,
   "id": "1626dceb",
   "metadata": {},
   "outputs": [
    {
     "name": "stdout",
     "output_type": "stream",
     "text": [
      "<class 'pandas.core.frame.DataFrame'>\n",
      "RangeIndex: 3999 entries, 0 to 3998\n",
      "Data columns (total 6 columns):\n",
      " #   Column              Non-Null Count  Dtype \n",
      "---  ------              --------------  ----- \n",
      " 0   customer_id         3999 non-null   int64 \n",
      " 1   address             3999 non-null   object\n",
      " 2   postcode            3999 non-null   int64 \n",
      " 3   state               3999 non-null   object\n",
      " 4   country             3999 non-null   object\n",
      " 5   property_valuation  3999 non-null   int64 \n",
      "dtypes: int64(3), object(3)\n",
      "memory usage: 187.6+ KB\n"
     ]
    }
   ],
   "source": [
    "#get more information about data\n",
    "CustomerAddress.info()"
   ]
  },
  {
   "cell_type": "code",
   "execution_count": 85,
   "id": "f2ded0aa",
   "metadata": {},
   "outputs": [
    {
     "data": {
      "text/plain": [
       "customer_id           0\n",
       "address               0\n",
       "postcode              0\n",
       "state                 0\n",
       "country               0\n",
       "property_valuation    0\n",
       "dtype: int64"
      ]
     },
     "execution_count": 85,
     "metadata": {},
     "output_type": "execute_result"
    }
   ],
   "source": [
    "#check nulls value in CustomerAddress dataset\n",
    "CustomerAddress.isnull().sum()"
   ]
  },
  {
   "cell_type": "code",
   "execution_count": 86,
   "id": "fa4f431d",
   "metadata": {},
   "outputs": [
    {
     "data": {
      "text/plain": [
       "0"
      ]
     },
     "execution_count": 86,
     "metadata": {},
     "output_type": "execute_result"
    }
   ],
   "source": [
    "#check duplicated values in CustomerAddress dataset\n",
    "CustomerAddress.duplicated().sum()"
   ]
  },
  {
   "cell_type": "code",
   "execution_count": 87,
   "id": "d0228634",
   "metadata": {},
   "outputs": [
    {
     "data": {
      "text/plain": [
       "3 Mariners Cove Terrace    2\n",
       "64 Macpherson Junction     2\n",
       "3 Talisman Place           2\n",
       "65973 Morrow Alley         1\n",
       "6466 Troy Street           1\n",
       "                          ..\n",
       "0 Pierstorff Place         1\n",
       "87 Elka Terrace            1\n",
       "116 Sullivan Avenue        1\n",
       "1988 Bartillon Terrace     1\n",
       "28 Toban Center            1\n",
       "Name: address, Length: 3996, dtype: int64"
      ]
     },
     "execution_count": 87,
     "metadata": {},
     "output_type": "execute_result"
    }
   ],
   "source": [
    "#check value in address column\n",
    "CustomerAddress.address.value_counts()"
   ]
  },
  {
   "cell_type": "code",
   "execution_count": 88,
   "id": "6ab6d689",
   "metadata": {},
   "outputs": [
    {
     "data": {
      "text/plain": [
       "2170    31\n",
       "2145    30\n",
       "2155    30\n",
       "2153    29\n",
       "3977    26\n",
       "        ..\n",
       "3331     1\n",
       "3036     1\n",
       "3321     1\n",
       "3305     1\n",
       "2143     1\n",
       "Name: postcode, Length: 873, dtype: int64"
      ]
     },
     "execution_count": 88,
     "metadata": {},
     "output_type": "execute_result"
    }
   ],
   "source": [
    "#check value in postcode column\n",
    "CustomerAddress.postcode.value_counts()"
   ]
  },
  {
   "cell_type": "code",
   "execution_count": 89,
   "id": "028d90bb",
   "metadata": {},
   "outputs": [
    {
     "data": {
      "text/plain": [
       "NSW                2054\n",
       "VIC                 939\n",
       "QLD                 838\n",
       "New South Wales      86\n",
       "Victoria             82\n",
       "Name: state, dtype: int64"
      ]
     },
     "execution_count": 89,
     "metadata": {},
     "output_type": "execute_result"
    }
   ],
   "source": [
    "#check value in state column\n",
    "CustomerAddress.state.value_counts()"
   ]
  },
  {
   "cell_type": "markdown",
   "id": "0239d080",
   "metadata": {},
   "source": [
    "1. Convert New South Wales to NSW\n",
    "2. Convert Victoria to VIC "
   ]
  },
  {
   "cell_type": "code",
   "execution_count": 90,
   "id": "a8502d81",
   "metadata": {},
   "outputs": [],
   "source": [
    "#change data \n",
    "CustomerAddress.state.replace('New South Wales', 'NSW',  inplace =True)\n",
    "CustomerAddress.state.replace('Victoria', 'VIC', inplace =True)"
   ]
  },
  {
   "cell_type": "code",
   "execution_count": 91,
   "id": "12d36fc7",
   "metadata": {},
   "outputs": [
    {
     "data": {
      "text/plain": [
       "NSW    2140\n",
       "VIC    1021\n",
       "QLD     838\n",
       "Name: state, dtype: int64"
      ]
     },
     "execution_count": 91,
     "metadata": {},
     "output_type": "execute_result"
    }
   ],
   "source": [
    "#check value in state column again\n",
    "CustomerAddress.state.value_counts()"
   ]
  },
  {
   "cell_type": "code",
   "execution_count": 92,
   "id": "a70c186c",
   "metadata": {},
   "outputs": [
    {
     "data": {
      "text/plain": [
       "Australia    3999\n",
       "Name: country, dtype: int64"
      ]
     },
     "execution_count": 92,
     "metadata": {},
     "output_type": "execute_result"
    }
   ],
   "source": [
    "#check value in country column\n",
    "CustomerAddress.country.value_counts()"
   ]
  },
  {
   "cell_type": "code",
   "execution_count": 93,
   "id": "1a5a88a1",
   "metadata": {},
   "outputs": [
    {
     "data": {
      "text/plain": [
       "count    3999.000000\n",
       "mean        7.514379\n",
       "std         2.824663\n",
       "min         1.000000\n",
       "25%         6.000000\n",
       "50%         8.000000\n",
       "75%        10.000000\n",
       "max        12.000000\n",
       "Name: property_valuation, dtype: float64"
      ]
     },
     "execution_count": 93,
     "metadata": {},
     "output_type": "execute_result"
    }
   ],
   "source": [
    "#check summary statistic for property_valuation column\n",
    "CustomerAddress.property_valuation.describe()"
   ]
  },
  {
   "cell_type": "markdown",
   "id": "ecf2f5b9",
   "metadata": {},
   "source": [
    "# Prepare data for RFM\n",
    "\n",
    "\n",
    "#### Merge three data ((CustomerDemographic, CustomerAddress, Transactions)) "
   ]
  },
  {
   "cell_type": "code",
   "execution_count": 94,
   "id": "80f0dbd5",
   "metadata": {},
   "outputs": [],
   "source": [
    "#Merge three dataSets\n",
    "result = pd.merge(CustomerDemographic, CustomerAddress, on = 'customer_id', how=\"inner\")\n",
    "all_data = pd.merge(result, Transactions, on = 'customer_id', how=\"inner\") "
   ]
  },
  {
   "cell_type": "code",
   "execution_count": 95,
   "id": "18e9836e",
   "metadata": {},
   "outputs": [],
   "source": [
    "New_data= pd.merge(all_data, NewCustomerList, on = ['first_name', 'last_name'] , how=\"inner\") "
   ]
  },
  {
   "cell_type": "code",
   "execution_count": 97,
   "id": "5f6b14bc",
   "metadata": {},
   "outputs": [
    {
     "data": {
      "text/plain": [
       "Index(['customer_id', 'first_name', 'last_name', 'gender_x',\n",
       "       'past_3_years_bike_related_purchases_x', 'DOB_x', 'job_title_x',\n",
       "       'job_industry_category_x', 'wealth_segment_x', 'deceased_indicator_x',\n",
       "       'owns_car_x', 'tenure_x', 'address_x', 'postcode_x', 'state_x',\n",
       "       'country_x', 'property_valuation_x', 'transaction_id', 'product_id',\n",
       "       'transaction_date', 'online_order', 'order_status', 'brand',\n",
       "       'product_line', 'product_class', 'product_size', 'list_price',\n",
       "       'standard_cost', 'product_first_sold_date', 'gender_y',\n",
       "       'past_3_years_bike_related_purchases_y', 'DOB_y', 'job_title_y',\n",
       "       'job_industry_category_y', 'wealth_segment_y', 'deceased_indicator_y',\n",
       "       'owns_car_y', 'tenure_y', 'address_y', 'postcode_y', 'state_y',\n",
       "       'country_y', 'property_valuation_y', 'Rank', 'Value'],\n",
       "      dtype='object')"
      ]
     },
     "execution_count": 97,
     "metadata": {},
     "output_type": "execute_result"
    }
   ],
   "source": [
    "New_data.columns"
   ]
  },
  {
   "cell_type": "code",
   "execution_count": 98,
   "id": "818764ae",
   "metadata": {},
   "outputs": [
    {
     "data": {
      "text/plain": [
       "Index(['customer_id', 'first_name', 'last_name', 'gender',\n",
       "       'past_3_years_bike_related_purchases', 'DOB', 'job_title',\n",
       "       'job_industry_category', 'wealth_segment', 'deceased_indicator',\n",
       "       'owns_car', 'tenure', 'address', 'postcode', 'state', 'country',\n",
       "       'property_valuation', 'transaction_id', 'product_id',\n",
       "       'transaction_date', 'online_order', 'order_status', 'brand',\n",
       "       'product_line', 'product_class', 'product_size', 'list_price',\n",
       "       'standard_cost', 'product_first_sold_date'],\n",
       "      dtype='object')"
      ]
     },
     "execution_count": 98,
     "metadata": {},
     "output_type": "execute_result"
    }
   ],
   "source": [
    "#check columns name of merged data\n",
    "all_data.columns"
   ]
  },
  {
   "cell_type": "markdown",
   "id": "1187a210",
   "metadata": {},
   "source": [
    "## Feature Construction\n",
    "1. create age column\n",
    "2. create profit column\n",
    "3. create RFM dataframe to customer segments"
   ]
  },
  {
   "cell_type": "code",
   "execution_count": 99,
   "id": "5967c1db",
   "metadata": {},
   "outputs": [],
   "source": [
    "#create A profit column\n",
    "all_data['profit'] = all_data.list_price - all_data.standard_cost"
   ]
  },
  {
   "cell_type": "code",
   "execution_count": 100,
   "id": "cad5f2ab",
   "metadata": {},
   "outputs": [
    {
     "data": {
      "text/html": [
       "<div>\n",
       "<style scoped>\n",
       "    .dataframe tbody tr th:only-of-type {\n",
       "        vertical-align: middle;\n",
       "    }\n",
       "\n",
       "    .dataframe tbody tr th {\n",
       "        vertical-align: top;\n",
       "    }\n",
       "\n",
       "    .dataframe thead th {\n",
       "        text-align: right;\n",
       "    }\n",
       "</style>\n",
       "<table border=\"1\" class=\"dataframe\">\n",
       "  <thead>\n",
       "    <tr style=\"text-align: right;\">\n",
       "      <th></th>\n",
       "      <th>customer_id</th>\n",
       "      <th>first_name</th>\n",
       "      <th>last_name</th>\n",
       "      <th>gender</th>\n",
       "      <th>past_3_years_bike_related_purchases</th>\n",
       "      <th>DOB</th>\n",
       "      <th>job_title</th>\n",
       "      <th>job_industry_category</th>\n",
       "      <th>wealth_segment</th>\n",
       "      <th>deceased_indicator</th>\n",
       "      <th>...</th>\n",
       "      <th>order_status</th>\n",
       "      <th>brand</th>\n",
       "      <th>product_line</th>\n",
       "      <th>product_class</th>\n",
       "      <th>product_size</th>\n",
       "      <th>list_price</th>\n",
       "      <th>standard_cost</th>\n",
       "      <th>product_first_sold_date</th>\n",
       "      <th>profit</th>\n",
       "      <th>age</th>\n",
       "    </tr>\n",
       "  </thead>\n",
       "  <tbody>\n",
       "    <tr>\n",
       "      <th>0</th>\n",
       "      <td>1</td>\n",
       "      <td>Laraine</td>\n",
       "      <td>Medendorp</td>\n",
       "      <td>Female</td>\n",
       "      <td>93</td>\n",
       "      <td>1953-10-12</td>\n",
       "      <td>Executive Secretary</td>\n",
       "      <td>Health</td>\n",
       "      <td>Mass Customer</td>\n",
       "      <td>N</td>\n",
       "      <td>...</td>\n",
       "      <td>Approved</td>\n",
       "      <td>OHM Cycles</td>\n",
       "      <td>Standard</td>\n",
       "      <td>medium</td>\n",
       "      <td>medium</td>\n",
       "      <td>235.63</td>\n",
       "      <td>125.07</td>\n",
       "      <td>38482.0</td>\n",
       "      <td>110.56</td>\n",
       "      <td>68.59093</td>\n",
       "    </tr>\n",
       "    <tr>\n",
       "      <th>1</th>\n",
       "      <td>1</td>\n",
       "      <td>Laraine</td>\n",
       "      <td>Medendorp</td>\n",
       "      <td>Female</td>\n",
       "      <td>93</td>\n",
       "      <td>1953-10-12</td>\n",
       "      <td>Executive Secretary</td>\n",
       "      <td>Health</td>\n",
       "      <td>Mass Customer</td>\n",
       "      <td>N</td>\n",
       "      <td>...</td>\n",
       "      <td>Approved</td>\n",
       "      <td>Solex</td>\n",
       "      <td>Standard</td>\n",
       "      <td>medium</td>\n",
       "      <td>medium</td>\n",
       "      <td>1577.53</td>\n",
       "      <td>826.51</td>\n",
       "      <td>39526.0</td>\n",
       "      <td>751.02</td>\n",
       "      <td>68.59093</td>\n",
       "    </tr>\n",
       "    <tr>\n",
       "      <th>2</th>\n",
       "      <td>1</td>\n",
       "      <td>Laraine</td>\n",
       "      <td>Medendorp</td>\n",
       "      <td>Female</td>\n",
       "      <td>93</td>\n",
       "      <td>1953-10-12</td>\n",
       "      <td>Executive Secretary</td>\n",
       "      <td>Health</td>\n",
       "      <td>Mass Customer</td>\n",
       "      <td>N</td>\n",
       "      <td>...</td>\n",
       "      <td>Approved</td>\n",
       "      <td>Trek Bicycles</td>\n",
       "      <td>Road</td>\n",
       "      <td>low</td>\n",
       "      <td>small</td>\n",
       "      <td>1720.70</td>\n",
       "      <td>1531.42</td>\n",
       "      <td>37823.0</td>\n",
       "      <td>189.28</td>\n",
       "      <td>68.59093</td>\n",
       "    </tr>\n",
       "    <tr>\n",
       "      <th>3</th>\n",
       "      <td>1</td>\n",
       "      <td>Laraine</td>\n",
       "      <td>Medendorp</td>\n",
       "      <td>Female</td>\n",
       "      <td>93</td>\n",
       "      <td>1953-10-12</td>\n",
       "      <td>Executive Secretary</td>\n",
       "      <td>Health</td>\n",
       "      <td>Mass Customer</td>\n",
       "      <td>N</td>\n",
       "      <td>...</td>\n",
       "      <td>Approved</td>\n",
       "      <td>Norco Bicycles</td>\n",
       "      <td>Standard</td>\n",
       "      <td>medium</td>\n",
       "      <td>medium</td>\n",
       "      <td>360.40</td>\n",
       "      <td>270.30</td>\n",
       "      <td>37873.0</td>\n",
       "      <td>90.10</td>\n",
       "      <td>68.59093</td>\n",
       "    </tr>\n",
       "    <tr>\n",
       "      <th>4</th>\n",
       "      <td>1</td>\n",
       "      <td>Laraine</td>\n",
       "      <td>Medendorp</td>\n",
       "      <td>Female</td>\n",
       "      <td>93</td>\n",
       "      <td>1953-10-12</td>\n",
       "      <td>Executive Secretary</td>\n",
       "      <td>Health</td>\n",
       "      <td>Mass Customer</td>\n",
       "      <td>N</td>\n",
       "      <td>...</td>\n",
       "      <td>Approved</td>\n",
       "      <td>Solex</td>\n",
       "      <td>Standard</td>\n",
       "      <td>medium</td>\n",
       "      <td>medium</td>\n",
       "      <td>71.49</td>\n",
       "      <td>53.62</td>\n",
       "      <td>38573.0</td>\n",
       "      <td>17.87</td>\n",
       "      <td>68.59093</td>\n",
       "    </tr>\n",
       "  </tbody>\n",
       "</table>\n",
       "<p>5 rows × 31 columns</p>\n",
       "</div>"
      ],
      "text/plain": [
       "   customer_id first_name  last_name  gender  \\\n",
       "0            1    Laraine  Medendorp  Female   \n",
       "1            1    Laraine  Medendorp  Female   \n",
       "2            1    Laraine  Medendorp  Female   \n",
       "3            1    Laraine  Medendorp  Female   \n",
       "4            1    Laraine  Medendorp  Female   \n",
       "\n",
       "   past_3_years_bike_related_purchases        DOB            job_title  \\\n",
       "0                                   93 1953-10-12  Executive Secretary   \n",
       "1                                   93 1953-10-12  Executive Secretary   \n",
       "2                                   93 1953-10-12  Executive Secretary   \n",
       "3                                   93 1953-10-12  Executive Secretary   \n",
       "4                                   93 1953-10-12  Executive Secretary   \n",
       "\n",
       "  job_industry_category wealth_segment deceased_indicator  ... order_status  \\\n",
       "0                Health  Mass Customer                  N  ...     Approved   \n",
       "1                Health  Mass Customer                  N  ...     Approved   \n",
       "2                Health  Mass Customer                  N  ...     Approved   \n",
       "3                Health  Mass Customer                  N  ...     Approved   \n",
       "4                Health  Mass Customer                  N  ...     Approved   \n",
       "\n",
       "            brand product_line  product_class product_size list_price  \\\n",
       "0      OHM Cycles     Standard         medium       medium     235.63   \n",
       "1           Solex     Standard         medium       medium    1577.53   \n",
       "2   Trek Bicycles         Road            low        small    1720.70   \n",
       "3  Norco Bicycles     Standard         medium       medium     360.40   \n",
       "4           Solex     Standard         medium       medium      71.49   \n",
       "\n",
       "   standard_cost  product_first_sold_date  profit       age  \n",
       "0         125.07                  38482.0  110.56  68.59093  \n",
       "1         826.51                  39526.0  751.02  68.59093  \n",
       "2        1531.42                  37823.0  189.28  68.59093  \n",
       "3         270.30                  37873.0   90.10  68.59093  \n",
       "4          53.62                  38573.0   17.87  68.59093  \n",
       "\n",
       "[5 rows x 31 columns]"
      ]
     },
     "execution_count": 100,
     "metadata": {},
     "output_type": "execute_result"
    }
   ],
   "source": [
    "# create new column age\n",
    "all_data['age'] = (dt.datetime.now() - all_data['DOB']) / np.timedelta64(1, 'Y')\n",
    "all_data.head()"
   ]
  },
  {
   "cell_type": "code",
   "execution_count": 101,
   "id": "e7579d23",
   "metadata": {},
   "outputs": [
    {
     "data": {
      "text/plain": [
       "Index(['customer_id', 'first_name', 'last_name', 'gender',\n",
       "       'past_3_years_bike_related_purchases', 'DOB', 'job_title',\n",
       "       'job_industry_category', 'wealth_segment', 'deceased_indicator',\n",
       "       'owns_car', 'tenure', 'address', 'postcode', 'state', 'country',\n",
       "       'property_valuation', 'transaction_id', 'product_id',\n",
       "       'transaction_date', 'online_order', 'order_status', 'brand',\n",
       "       'product_line', 'product_class', 'product_size', 'list_price',\n",
       "       'standard_cost', 'product_first_sold_date', 'profit', 'age'],\n",
       "      dtype='object')"
      ]
     },
     "execution_count": 101,
     "metadata": {},
     "output_type": "execute_result"
    }
   ],
   "source": [
    "all_data.columns"
   ]
  },
  {
   "cell_type": "markdown",
   "id": "9da6f9e0",
   "metadata": {},
   "source": [
    "***Drop columns I don't need it for analysis***"
   ]
  },
  {
   "cell_type": "code",
   "execution_count": 102,
   "id": "61d155e9",
   "metadata": {},
   "outputs": [],
   "source": [
    "#drop deceased_indicator columns because it is not interesting for now\n",
    "all_data.drop('deceased_indicator', axis=1, inplace =True)  "
   ]
  },
  {
   "cell_type": "code",
   "execution_count": 103,
   "id": "080687e1",
   "metadata": {},
   "outputs": [],
   "source": [
    "#drop DOB columns because it is not interesting for now\n",
    "all_data.drop('DOB', axis=1, inplace =True)"
   ]
  },
  {
   "cell_type": "markdown",
   "id": "b8942bf7",
   "metadata": {},
   "source": [
    "# Calculating Recency"
   ]
  },
  {
   "cell_type": "code",
   "execution_count": 104,
   "id": "2bc41fd5",
   "metadata": {},
   "outputs": [
    {
     "data": {
      "text/html": [
       "<div>\n",
       "<style scoped>\n",
       "    .dataframe tbody tr th:only-of-type {\n",
       "        vertical-align: middle;\n",
       "    }\n",
       "\n",
       "    .dataframe tbody tr th {\n",
       "        vertical-align: top;\n",
       "    }\n",
       "\n",
       "    .dataframe thead th {\n",
       "        text-align: right;\n",
       "    }\n",
       "</style>\n",
       "<table border=\"1\" class=\"dataframe\">\n",
       "  <thead>\n",
       "    <tr style=\"text-align: right;\">\n",
       "      <th></th>\n",
       "      <th>CustomerId</th>\n",
       "      <th>LastPurchaseDate</th>\n",
       "      <th>Recency</th>\n",
       "    </tr>\n",
       "  </thead>\n",
       "  <tbody>\n",
       "    <tr>\n",
       "      <th>0</th>\n",
       "      <td>1</td>\n",
       "      <td>2017-12-23</td>\n",
       "      <td>7</td>\n",
       "    </tr>\n",
       "    <tr>\n",
       "      <th>1</th>\n",
       "      <td>2</td>\n",
       "      <td>2017-08-24</td>\n",
       "      <td>128</td>\n",
       "    </tr>\n",
       "    <tr>\n",
       "      <th>2</th>\n",
       "      <td>9</td>\n",
       "      <td>2017-10-13</td>\n",
       "      <td>78</td>\n",
       "    </tr>\n",
       "    <tr>\n",
       "      <th>3</th>\n",
       "      <td>12</td>\n",
       "      <td>2017-10-24</td>\n",
       "      <td>67</td>\n",
       "    </tr>\n",
       "    <tr>\n",
       "      <th>4</th>\n",
       "      <td>13</td>\n",
       "      <td>2017-12-03</td>\n",
       "      <td>27</td>\n",
       "    </tr>\n",
       "  </tbody>\n",
       "</table>\n",
       "</div>"
      ],
      "text/plain": [
       "   CustomerId LastPurchaseDate  Recency\n",
       "0           1       2017-12-23        7\n",
       "1           2       2017-08-24      128\n",
       "2           9       2017-10-13       78\n",
       "3          12       2017-10-24       67\n",
       "4          13       2017-12-03       27"
      ]
     },
     "execution_count": 104,
     "metadata": {},
     "output_type": "execute_result"
    }
   ],
   "source": [
    "#Here we are calculating recency for customers who had made a purchase with a company.\n",
    "\n",
    "df_recency = all_data.groupby(by='customer_id',\n",
    "\t\t\t\t\t\tas_index=False)['transaction_date'].max()\n",
    "df_recency.columns = ['CustomerId', 'LastPurchaseDate']\n",
    "recent_date = df_recency['LastPurchaseDate'].max()\n",
    "df_recency['Recency'] = df_recency['LastPurchaseDate'].apply(\n",
    "\tlambda x: (recent_date - x).days)\n",
    "df_recency.head()"
   ]
  },
  {
   "cell_type": "markdown",
   "id": "f0ff1efa",
   "metadata": {},
   "source": [
    "## Calculating Frequency"
   ]
  },
  {
   "cell_type": "code",
   "execution_count": 105,
   "id": "452676ff",
   "metadata": {},
   "outputs": [
    {
     "data": {
      "text/html": [
       "<div>\n",
       "<style scoped>\n",
       "    .dataframe tbody tr th:only-of-type {\n",
       "        vertical-align: middle;\n",
       "    }\n",
       "\n",
       "    .dataframe tbody tr th {\n",
       "        vertical-align: top;\n",
       "    }\n",
       "\n",
       "    .dataframe thead th {\n",
       "        text-align: right;\n",
       "    }\n",
       "</style>\n",
       "<table border=\"1\" class=\"dataframe\">\n",
       "  <thead>\n",
       "    <tr style=\"text-align: right;\">\n",
       "      <th></th>\n",
       "      <th>CustomerId</th>\n",
       "      <th>Frequency</th>\n",
       "    </tr>\n",
       "  </thead>\n",
       "  <tbody>\n",
       "    <tr>\n",
       "      <th>0</th>\n",
       "      <td>1</td>\n",
       "      <td>11</td>\n",
       "    </tr>\n",
       "    <tr>\n",
       "      <th>1</th>\n",
       "      <td>2</td>\n",
       "      <td>3</td>\n",
       "    </tr>\n",
       "    <tr>\n",
       "      <th>2</th>\n",
       "      <td>9</td>\n",
       "      <td>6</td>\n",
       "    </tr>\n",
       "    <tr>\n",
       "      <th>3</th>\n",
       "      <td>12</td>\n",
       "      <td>7</td>\n",
       "    </tr>\n",
       "    <tr>\n",
       "      <th>4</th>\n",
       "      <td>13</td>\n",
       "      <td>7</td>\n",
       "    </tr>\n",
       "  </tbody>\n",
       "</table>\n",
       "</div>"
      ],
      "text/plain": [
       "   CustomerId  Frequency\n",
       "0           1         11\n",
       "1           2          3\n",
       "2           9          6\n",
       "3          12          7\n",
       "4          13          7"
      ]
     },
     "execution_count": 105,
     "metadata": {},
     "output_type": "execute_result"
    }
   ],
   "source": [
    "# We are here calculating the frequency of frequent transactions of the customer in ordering/buying some product from the company.\n",
    "frequency_df = all_data.groupby(\n",
    "\tby=['customer_id'], as_index=False)['transaction_id'].count()\n",
    "frequency_df.columns = ['CustomerId', 'Frequency']\n",
    "frequency_df.head()\n"
   ]
  },
  {
   "cell_type": "markdown",
   "id": "cea0e70b",
   "metadata": {},
   "source": [
    "## Calculating Monetary Value\n"
   ]
  },
  {
   "cell_type": "code",
   "execution_count": 106,
   "id": "6fd65268",
   "metadata": {},
   "outputs": [
    {
     "data": {
      "text/html": [
       "<div>\n",
       "<style scoped>\n",
       "    .dataframe tbody tr th:only-of-type {\n",
       "        vertical-align: middle;\n",
       "    }\n",
       "\n",
       "    .dataframe tbody tr th {\n",
       "        vertical-align: top;\n",
       "    }\n",
       "\n",
       "    .dataframe thead th {\n",
       "        text-align: right;\n",
       "    }\n",
       "</style>\n",
       "<table border=\"1\" class=\"dataframe\">\n",
       "  <thead>\n",
       "    <tr style=\"text-align: right;\">\n",
       "      <th></th>\n",
       "      <th>CustomerId</th>\n",
       "      <th>Monetary</th>\n",
       "    </tr>\n",
       "  </thead>\n",
       "  <tbody>\n",
       "    <tr>\n",
       "      <th>0</th>\n",
       "      <td>1</td>\n",
       "      <td>3018.09</td>\n",
       "    </tr>\n",
       "    <tr>\n",
       "      <th>1</th>\n",
       "      <td>2</td>\n",
       "      <td>2226.26</td>\n",
       "    </tr>\n",
       "    <tr>\n",
       "      <th>2</th>\n",
       "      <td>9</td>\n",
       "      <td>2353.11</td>\n",
       "    </tr>\n",
       "    <tr>\n",
       "      <th>3</th>\n",
       "      <td>12</td>\n",
       "      <td>3540.03</td>\n",
       "    </tr>\n",
       "    <tr>\n",
       "      <th>4</th>\n",
       "      <td>13</td>\n",
       "      <td>4337.38</td>\n",
       "    </tr>\n",
       "  </tbody>\n",
       "</table>\n",
       "</div>"
      ],
      "text/plain": [
       "   CustomerId  Monetary\n",
       "0           1   3018.09\n",
       "1           2   2226.26\n",
       "2           9   2353.11\n",
       "3          12   3540.03\n",
       "4          13   4337.38"
      ]
     },
     "execution_count": 106,
     "metadata": {},
     "output_type": "execute_result"
    }
   ],
   "source": [
    "# Here we are calculating the monetary value of customer spend on purchasing products from the company.\n",
    "monetary_df = all_data.groupby(by='customer_id', as_index=False)['profit'].sum()\n",
    "monetary_df.columns = ['CustomerId', 'Monetary']\n",
    "monetary_df.head()"
   ]
  },
  {
   "cell_type": "code",
   "execution_count": 107,
   "id": "3299af2e",
   "metadata": {},
   "outputs": [
    {
     "data": {
      "text/html": [
       "<div>\n",
       "<style scoped>\n",
       "    .dataframe tbody tr th:only-of-type {\n",
       "        vertical-align: middle;\n",
       "    }\n",
       "\n",
       "    .dataframe tbody tr th {\n",
       "        vertical-align: top;\n",
       "    }\n",
       "\n",
       "    .dataframe thead th {\n",
       "        text-align: right;\n",
       "    }\n",
       "</style>\n",
       "<table border=\"1\" class=\"dataframe\">\n",
       "  <thead>\n",
       "    <tr style=\"text-align: right;\">\n",
       "      <th></th>\n",
       "      <th>CustomerId</th>\n",
       "      <th>Recency</th>\n",
       "      <th>Frequency</th>\n",
       "      <th>Monetary</th>\n",
       "    </tr>\n",
       "  </thead>\n",
       "  <tbody>\n",
       "    <tr>\n",
       "      <th>0</th>\n",
       "      <td>1</td>\n",
       "      <td>7</td>\n",
       "      <td>11</td>\n",
       "      <td>3018.09</td>\n",
       "    </tr>\n",
       "    <tr>\n",
       "      <th>1</th>\n",
       "      <td>2</td>\n",
       "      <td>128</td>\n",
       "      <td>3</td>\n",
       "      <td>2226.26</td>\n",
       "    </tr>\n",
       "    <tr>\n",
       "      <th>2</th>\n",
       "      <td>9</td>\n",
       "      <td>78</td>\n",
       "      <td>6</td>\n",
       "      <td>2353.11</td>\n",
       "    </tr>\n",
       "    <tr>\n",
       "      <th>3</th>\n",
       "      <td>12</td>\n",
       "      <td>67</td>\n",
       "      <td>7</td>\n",
       "      <td>3540.03</td>\n",
       "    </tr>\n",
       "    <tr>\n",
       "      <th>4</th>\n",
       "      <td>13</td>\n",
       "      <td>27</td>\n",
       "      <td>7</td>\n",
       "      <td>4337.38</td>\n",
       "    </tr>\n",
       "    <tr>\n",
       "      <th>...</th>\n",
       "      <td>...</td>\n",
       "      <td>...</td>\n",
       "      <td>...</td>\n",
       "      <td>...</td>\n",
       "    </tr>\n",
       "    <tr>\n",
       "      <th>2322</th>\n",
       "      <td>3493</td>\n",
       "      <td>93</td>\n",
       "      <td>6</td>\n",
       "      <td>3728.88</td>\n",
       "    </tr>\n",
       "    <tr>\n",
       "      <th>2323</th>\n",
       "      <td>3494</td>\n",
       "      <td>4</td>\n",
       "      <td>4</td>\n",
       "      <td>2755.11</td>\n",
       "    </tr>\n",
       "    <tr>\n",
       "      <th>2324</th>\n",
       "      <td>3495</td>\n",
       "      <td>13</td>\n",
       "      <td>7</td>\n",
       "      <td>3847.65</td>\n",
       "    </tr>\n",
       "    <tr>\n",
       "      <th>2325</th>\n",
       "      <td>3496</td>\n",
       "      <td>256</td>\n",
       "      <td>4</td>\n",
       "      <td>2045.84</td>\n",
       "    </tr>\n",
       "    <tr>\n",
       "      <th>2326</th>\n",
       "      <td>3497</td>\n",
       "      <td>52</td>\n",
       "      <td>3</td>\n",
       "      <td>1648.32</td>\n",
       "    </tr>\n",
       "  </tbody>\n",
       "</table>\n",
       "<p>2327 rows × 4 columns</p>\n",
       "</div>"
      ],
      "text/plain": [
       "      CustomerId  Recency  Frequency  Monetary\n",
       "0              1        7         11   3018.09\n",
       "1              2      128          3   2226.26\n",
       "2              9       78          6   2353.11\n",
       "3             12       67          7   3540.03\n",
       "4             13       27          7   4337.38\n",
       "...          ...      ...        ...       ...\n",
       "2322        3493       93          6   3728.88\n",
       "2323        3494        4          4   2755.11\n",
       "2324        3495       13          7   3847.65\n",
       "2325        3496      256          4   2045.84\n",
       "2326        3497       52          3   1648.32\n",
       "\n",
       "[2327 rows x 4 columns]"
      ]
     },
     "execution_count": 107,
     "metadata": {},
     "output_type": "execute_result"
    }
   ],
   "source": [
    "rf_df = df_recency.merge(frequency_df, on='CustomerId')\n",
    "rfm_df = rf_df.merge(monetary_df, on='CustomerId').drop(\n",
    "\tcolumns='LastPurchaseDate')\n",
    "rfm_df\n"
   ]
  },
  {
   "cell_type": "markdown",
   "id": "5b7c508e",
   "metadata": {},
   "source": [
    "## Ranking Customer’s based upon their recency, frequency, and monetary score"
   ]
  },
  {
   "cell_type": "code",
   "execution_count": 108,
   "id": "830bbe47",
   "metadata": {},
   "outputs": [
    {
     "data": {
      "text/html": [
       "<div>\n",
       "<style scoped>\n",
       "    .dataframe tbody tr th:only-of-type {\n",
       "        vertical-align: middle;\n",
       "    }\n",
       "\n",
       "    .dataframe tbody tr th {\n",
       "        vertical-align: top;\n",
       "    }\n",
       "\n",
       "    .dataframe thead th {\n",
       "        text-align: right;\n",
       "    }\n",
       "</style>\n",
       "<table border=\"1\" class=\"dataframe\">\n",
       "  <thead>\n",
       "    <tr style=\"text-align: right;\">\n",
       "      <th></th>\n",
       "      <th>CustomerId</th>\n",
       "      <th>Recency</th>\n",
       "      <th>Frequency</th>\n",
       "      <th>Monetary</th>\n",
       "      <th>R_rank_norm</th>\n",
       "      <th>F_rank_norm</th>\n",
       "      <th>M_rank_norm</th>\n",
       "    </tr>\n",
       "  </thead>\n",
       "  <tbody>\n",
       "    <tr>\n",
       "      <th>0</th>\n",
       "      <td>1</td>\n",
       "      <td>7</td>\n",
       "      <td>11</td>\n",
       "      <td>3018.09</td>\n",
       "      <td>90.218567</td>\n",
       "      <td>98.151730</td>\n",
       "      <td>98.130640</td>\n",
       "    </tr>\n",
       "    <tr>\n",
       "      <th>1</th>\n",
       "      <td>2</td>\n",
       "      <td>128</td>\n",
       "      <td>3</td>\n",
       "      <td>2226.26</td>\n",
       "      <td>14.001298</td>\n",
       "      <td>13.023856</td>\n",
       "      <td>13.021057</td>\n",
       "    </tr>\n",
       "    <tr>\n",
       "      <th>2</th>\n",
       "      <td>9</td>\n",
       "      <td>78</td>\n",
       "      <td>6</td>\n",
       "      <td>2353.11</td>\n",
       "      <td>29.712184</td>\n",
       "      <td>60.090264</td>\n",
       "      <td>60.077353</td>\n",
       "    </tr>\n",
       "    <tr>\n",
       "      <th>3</th>\n",
       "      <td>12</td>\n",
       "      <td>67</td>\n",
       "      <td>7</td>\n",
       "      <td>3540.03</td>\n",
       "      <td>35.317031</td>\n",
       "      <td>74.725983</td>\n",
       "      <td>74.709927</td>\n",
       "    </tr>\n",
       "    <tr>\n",
       "      <th>4</th>\n",
       "      <td>13</td>\n",
       "      <td>27</td>\n",
       "      <td>7</td>\n",
       "      <td>4337.38</td>\n",
       "      <td>65.548583</td>\n",
       "      <td>74.725983</td>\n",
       "      <td>74.709927</td>\n",
       "    </tr>\n",
       "  </tbody>\n",
       "</table>\n",
       "</div>"
      ],
      "text/plain": [
       "   CustomerId  Recency  Frequency  Monetary  R_rank_norm  F_rank_norm  \\\n",
       "0           1        7         11   3018.09    90.218567    98.151730   \n",
       "1           2      128          3   2226.26    14.001298    13.023856   \n",
       "2           9       78          6   2353.11    29.712184    60.090264   \n",
       "3          12       67          7   3540.03    35.317031    74.725983   \n",
       "4          13       27          7   4337.38    65.548583    74.725983   \n",
       "\n",
       "   M_rank_norm  \n",
       "0    98.130640  \n",
       "1    13.021057  \n",
       "2    60.077353  \n",
       "3    74.709927  \n",
       "4    74.709927  "
      ]
     },
     "execution_count": 108,
     "metadata": {},
     "output_type": "execute_result"
    }
   ],
   "source": [
    "# Here we are normalizing the rank of the customers within a company to analyze the ranking.\n",
    "rfm_df['R_rank'] = rfm_df['Recency'].rank(ascending=False)\n",
    "rfm_df['F_rank'] = rfm_df['Frequency'].rank(ascending=True)\n",
    "rfm_df['M_rank'] = rfm_df['Monetary'].rank(ascending=True)\n",
    "\n",
    "# normalizing the rank of the customers\n",
    "rfm_df['R_rank_norm'] = (rfm_df['R_rank']/rfm_df['R_rank'].max())*100\n",
    "rfm_df['F_rank_norm'] = (rfm_df['F_rank']/rfm_df['F_rank'].max())*100\n",
    "rfm_df['M_rank_norm'] = (rfm_df['F_rank']/rfm_df['M_rank'].max())*100\n",
    "\n",
    "rfm_df.drop(columns=['R_rank', 'F_rank', 'M_rank'], inplace=True)\n",
    "\n",
    "rfm_df.head()\n"
   ]
  },
  {
   "cell_type": "markdown",
   "id": "5f4c510d",
   "metadata": {},
   "source": [
    "## Calculating RFM score\n",
    "***\n",
    "RFM score is calculated based upon recency, frequency, monetary value normalize ranks. Based upon this score we divide our customers. Here we rate them on a scale of 5. Formula used for calculating rfm score is : 0.15*Recency score + 0.28*Frequency score + 0.57 *Monetary score\n",
    "***"
   ]
  },
  {
   "cell_type": "code",
   "execution_count": 109,
   "id": "6e0fb003",
   "metadata": {},
   "outputs": [
    {
     "data": {
      "text/html": [
       "<div>\n",
       "<style scoped>\n",
       "    .dataframe tbody tr th:only-of-type {\n",
       "        vertical-align: middle;\n",
       "    }\n",
       "\n",
       "    .dataframe tbody tr th {\n",
       "        vertical-align: top;\n",
       "    }\n",
       "\n",
       "    .dataframe thead th {\n",
       "        text-align: right;\n",
       "    }\n",
       "</style>\n",
       "<table border=\"1\" class=\"dataframe\">\n",
       "  <thead>\n",
       "    <tr style=\"text-align: right;\">\n",
       "      <th></th>\n",
       "      <th>CustomerId</th>\n",
       "      <th>RFM_Score</th>\n",
       "    </tr>\n",
       "  </thead>\n",
       "  <tbody>\n",
       "    <tr>\n",
       "      <th>0</th>\n",
       "      <td>1</td>\n",
       "      <td>4.85</td>\n",
       "    </tr>\n",
       "    <tr>\n",
       "      <th>1</th>\n",
       "      <td>2</td>\n",
       "      <td>0.66</td>\n",
       "    </tr>\n",
       "    <tr>\n",
       "      <th>2</th>\n",
       "      <td>9</td>\n",
       "      <td>2.78</td>\n",
       "    </tr>\n",
       "    <tr>\n",
       "      <th>3</th>\n",
       "      <td>12</td>\n",
       "      <td>3.44</td>\n",
       "    </tr>\n",
       "    <tr>\n",
       "      <th>4</th>\n",
       "      <td>13</td>\n",
       "      <td>3.67</td>\n",
       "    </tr>\n",
       "    <tr>\n",
       "      <th>5</th>\n",
       "      <td>14</td>\n",
       "      <td>0.91</td>\n",
       "    </tr>\n",
       "    <tr>\n",
       "      <th>6</th>\n",
       "      <td>15</td>\n",
       "      <td>2.99</td>\n",
       "    </tr>\n",
       "  </tbody>\n",
       "</table>\n",
       "</div>"
      ],
      "text/plain": [
       "   CustomerId  RFM_Score\n",
       "0           1       4.85\n",
       "1           2       0.66\n",
       "2           9       2.78\n",
       "3          12       3.44\n",
       "4          13       3.67\n",
       "5          14       0.91\n",
       "6          15       2.99"
      ]
     },
     "execution_count": 109,
     "metadata": {},
     "output_type": "execute_result"
    }
   ],
   "source": [
    "rfm_df['RFM_Score'] = 0.15*rfm_df['R_rank_norm']+0.28 * \\\n",
    "\trfm_df['F_rank_norm']+0.57*rfm_df['M_rank_norm']\n",
    "rfm_df['RFM_Score'] *= 0.05\n",
    "rfm_df = rfm_df.round(2)\n",
    "rfm_df[['CustomerId', 'RFM_Score']].head(7)\n"
   ]
  },
  {
   "cell_type": "markdown",
   "id": "55dfca58",
   "metadata": {},
   "source": [
    "## Rating Customer based upon the RFM score\n",
    "* rfm score >4.5 : Top Customer\n",
    "* 4.5 > rfm score > 4 : High Value Customer\n",
    "* 4>rfm score >3 : Medium value customer\n",
    "* 3>rfm score>1.6 : Low-value customer\n",
    "* rfm score<1.6 :Lost Customer"
   ]
  },
  {
   "cell_type": "code",
   "execution_count": 110,
   "id": "98bb87e3",
   "metadata": {},
   "outputs": [
    {
     "data": {
      "text/html": [
       "<div>\n",
       "<style scoped>\n",
       "    .dataframe tbody tr th:only-of-type {\n",
       "        vertical-align: middle;\n",
       "    }\n",
       "\n",
       "    .dataframe tbody tr th {\n",
       "        vertical-align: top;\n",
       "    }\n",
       "\n",
       "    .dataframe thead th {\n",
       "        text-align: right;\n",
       "    }\n",
       "</style>\n",
       "<table border=\"1\" class=\"dataframe\">\n",
       "  <thead>\n",
       "    <tr style=\"text-align: right;\">\n",
       "      <th></th>\n",
       "      <th>CustomerId</th>\n",
       "      <th>RFM_Score</th>\n",
       "      <th>Customer_segment</th>\n",
       "    </tr>\n",
       "  </thead>\n",
       "  <tbody>\n",
       "    <tr>\n",
       "      <th>0</th>\n",
       "      <td>1</td>\n",
       "      <td>4.85</td>\n",
       "      <td>Top Customers</td>\n",
       "    </tr>\n",
       "    <tr>\n",
       "      <th>1</th>\n",
       "      <td>2</td>\n",
       "      <td>0.66</td>\n",
       "      <td>Lost Customers</td>\n",
       "    </tr>\n",
       "    <tr>\n",
       "      <th>2</th>\n",
       "      <td>9</td>\n",
       "      <td>2.78</td>\n",
       "      <td>Low Value Customers</td>\n",
       "    </tr>\n",
       "    <tr>\n",
       "      <th>3</th>\n",
       "      <td>12</td>\n",
       "      <td>3.44</td>\n",
       "      <td>Medium Value Customer</td>\n",
       "    </tr>\n",
       "    <tr>\n",
       "      <th>4</th>\n",
       "      <td>13</td>\n",
       "      <td>3.67</td>\n",
       "      <td>Medium Value Customer</td>\n",
       "    </tr>\n",
       "    <tr>\n",
       "      <th>5</th>\n",
       "      <td>14</td>\n",
       "      <td>0.91</td>\n",
       "      <td>Lost Customers</td>\n",
       "    </tr>\n",
       "    <tr>\n",
       "      <th>6</th>\n",
       "      <td>15</td>\n",
       "      <td>2.99</td>\n",
       "      <td>Low Value Customers</td>\n",
       "    </tr>\n",
       "    <tr>\n",
       "      <th>7</th>\n",
       "      <td>19</td>\n",
       "      <td>0.20</td>\n",
       "      <td>Lost Customers</td>\n",
       "    </tr>\n",
       "    <tr>\n",
       "      <th>8</th>\n",
       "      <td>20</td>\n",
       "      <td>1.59</td>\n",
       "      <td>Lost Customers</td>\n",
       "    </tr>\n",
       "    <tr>\n",
       "      <th>9</th>\n",
       "      <td>21</td>\n",
       "      <td>2.51</td>\n",
       "      <td>Low Value Customers</td>\n",
       "    </tr>\n",
       "    <tr>\n",
       "      <th>10</th>\n",
       "      <td>24</td>\n",
       "      <td>3.75</td>\n",
       "      <td>Medium Value Customer</td>\n",
       "    </tr>\n",
       "    <tr>\n",
       "      <th>11</th>\n",
       "      <td>25</td>\n",
       "      <td>4.92</td>\n",
       "      <td>Top Customers</td>\n",
       "    </tr>\n",
       "    <tr>\n",
       "      <th>12</th>\n",
       "      <td>26</td>\n",
       "      <td>0.20</td>\n",
       "      <td>Lost Customers</td>\n",
       "    </tr>\n",
       "    <tr>\n",
       "      <th>13</th>\n",
       "      <td>27</td>\n",
       "      <td>3.25</td>\n",
       "      <td>Medium Value Customer</td>\n",
       "    </tr>\n",
       "    <tr>\n",
       "      <th>14</th>\n",
       "      <td>28</td>\n",
       "      <td>2.76</td>\n",
       "      <td>Low Value Customers</td>\n",
       "    </tr>\n",
       "    <tr>\n",
       "      <th>15</th>\n",
       "      <td>29</td>\n",
       "      <td>4.44</td>\n",
       "      <td>High value Customer</td>\n",
       "    </tr>\n",
       "    <tr>\n",
       "      <th>16</th>\n",
       "      <td>31</td>\n",
       "      <td>1.31</td>\n",
       "      <td>Lost Customers</td>\n",
       "    </tr>\n",
       "    <tr>\n",
       "      <th>17</th>\n",
       "      <td>32</td>\n",
       "      <td>3.26</td>\n",
       "      <td>Medium Value Customer</td>\n",
       "    </tr>\n",
       "    <tr>\n",
       "      <th>18</th>\n",
       "      <td>35</td>\n",
       "      <td>1.30</td>\n",
       "      <td>Lost Customers</td>\n",
       "    </tr>\n",
       "    <tr>\n",
       "      <th>19</th>\n",
       "      <td>37</td>\n",
       "      <td>4.59</td>\n",
       "      <td>Top Customers</td>\n",
       "    </tr>\n",
       "  </tbody>\n",
       "</table>\n",
       "</div>"
      ],
      "text/plain": [
       "    CustomerId  RFM_Score       Customer_segment\n",
       "0            1       4.85          Top Customers\n",
       "1            2       0.66         Lost Customers\n",
       "2            9       2.78    Low Value Customers\n",
       "3           12       3.44  Medium Value Customer\n",
       "4           13       3.67  Medium Value Customer\n",
       "5           14       0.91         Lost Customers\n",
       "6           15       2.99    Low Value Customers\n",
       "7           19       0.20         Lost Customers\n",
       "8           20       1.59         Lost Customers\n",
       "9           21       2.51    Low Value Customers\n",
       "10          24       3.75  Medium Value Customer\n",
       "11          25       4.92          Top Customers\n",
       "12          26       0.20         Lost Customers\n",
       "13          27       3.25  Medium Value Customer\n",
       "14          28       2.76    Low Value Customers\n",
       "15          29       4.44    High value Customer\n",
       "16          31       1.31         Lost Customers\n",
       "17          32       3.26  Medium Value Customer\n",
       "18          35       1.30         Lost Customers\n",
       "19          37       4.59          Top Customers"
      ]
     },
     "execution_count": 110,
     "metadata": {},
     "output_type": "execute_result"
    }
   ],
   "source": [
    "rfm_df[\"Customer_segment\"] = np.where(rfm_df['RFM_Score'] > 4.5, \"Top Customers\", (np.where(rfm_df['RFM_Score'] > 4, \"High value Customer\", (np.where(rfm_df['RFM_Score'] > 3, \"Medium Value Customer\", np.where(rfm_df['RFM_Score'] > 1.6, 'Low Value Customers', 'Lost Customers'))))))\n",
    "rfm_df[['CustomerId', 'RFM_Score', 'Customer_segment']].head(20)\n"
   ]
  },
  {
   "cell_type": "code",
   "execution_count": 111,
   "id": "911a224f",
   "metadata": {},
   "outputs": [
    {
     "data": {
      "image/png": "[encoded data removed]",
      "text/plain": [
       "<Figure size 432x288 with 1 Axes>"
      ]
     },
     "metadata": {},
     "output_type": "display_data"
    }
   ],
   "source": [
    "#visualize customer segments\n",
    "plt.pie(rfm_df.Customer_segment.value_counts(),\n",
    "        labels=rfm_df.Customer_segment.value_counts().index,\n",
    "        autopct='%.0f%%')\n",
    "plt.show()\n"
   ]
  },
  {
   "cell_type": "code",
   "execution_count": 112,
   "id": "977e9af0",
   "metadata": {},
   "outputs": [
    {
     "data": {
      "text/plain": [
       "Text(0, 0.5, 'Total Profit')"
      ]
     },
     "execution_count": 112,
     "metadata": {},
     "output_type": "execute_result"
    },
    {
     "data": {
      "image/png": "[encoded data removed]",
      "text/plain": [
       "<Figure size 432x288 with 1 Axes>"
      ]
     },
     "metadata": {
      "needs_background": "light"
     },
     "output_type": "display_data"
    }
   ],
   "source": [
    "#if all_data.age > 10 and all_data.age: \n",
    "bins= [19, 29, 39, 49, 59 ,69]\n",
    "all_data['AgeGroup'] = pd.cut(all_data['age'], bins=bins, right=False)\n",
    "df_age = pd.DataFrame(all_data.groupby('AgeGroup')['profit'].sum())\n",
    "\n",
    "df_age.columns = ['profit']\n",
    "\n",
    "#visualize Total profit for each age group \n",
    "sns.barplot(x=df_age.index, y = 'profit', data=df_age, color='b' )\n",
    "plt.title('Total Profit based on Age Group')\n",
    "plt.xlabel('AgeGroup')\n",
    "plt.ylabel('Total Profit')"
   ]
  },
  {
   "cell_type": "code",
   "execution_count": 113,
   "id": "efa7050f",
   "metadata": {},
   "outputs": [
    {
     "data": {
      "text/plain": [
       "Text(0, 0.5, 'Profit')"
      ]
     },
     "execution_count": 113,
     "metadata": {},
     "output_type": "execute_result"
    },
    {
     "data": {
      "image/png": "[encoded data removed]",
      "text/plain": [
       "<Figure size 432x288 with 1 Axes>"
      ]
     },
     "metadata": {
      "needs_background": "light"
     },
     "output_type": "display_data"
    }
   ],
   "source": [
    "#create DataFrame total profit for each gender \n",
    "df_gender = pd.DataFrame(all_data.groupby('gender')['profit'].mean())\n",
    "df_gender.columns = ['profit']\n",
    "\n",
    "#visualize Total profit for each gender\n",
    "sns.barplot(x=df_gender.index, y = 'profit', data=df_gender)\n",
    "plt.title('Total Profit based on Gender')\n",
    "plt.xlabel('Gender')\n",
    "plt.ylabel(\"Profit\")"
   ]
  },
  {
   "cell_type": "code",
   "execution_count": 114,
   "id": "f15c5e63",
   "metadata": {},
   "outputs": [
    {
     "data": {
      "text/plain": [
       "Text(0, 0.5, 'Total Profit')"
      ]
     },
     "execution_count": 114,
     "metadata": {},
     "output_type": "execute_result"
    },
    {
     "data": {
      "image/png": "[encoded data removed]",
      "text/plain": [
       "<Figure size 432x288 with 1 Axes>"
      ]
     },
     "metadata": {
      "needs_background": "light"
     },
     "output_type": "display_data"
    }
   ],
   "source": [
    "#create DataFrame total profit for each state \n",
    "df_state = pd.DataFrame(all_data.groupby('state')['profit'].sum().sort_values(ascending=False))\n",
    "df_state.columns = ['profit']\n",
    "\n",
    "\n",
    "#visualize Total profit for each state\n",
    "sns.barplot(x=df_state.index, y = 'profit', data=df_state,  palette=\"Blues_d\" )\n",
    "plt.title('Total Profit based on state')\n",
    "plt.xlabel('State')\n",
    "plt.ylabel('Total Profit')"
   ]
  },
  {
   "cell_type": "code",
   "execution_count": 115,
   "id": "3f68ad14",
   "metadata": {},
   "outputs": [
    {
     "data": {
      "image/png": "[encoded data removed]",
      "text/plain": [
       "<Figure size 432x288 with 1 Axes>"
      ]
     },
     "metadata": {},
     "output_type": "display_data"
    }
   ],
   "source": [
    "plt.pie(all_data.state.value_counts(),\n",
    "        labels=all_data.state.value_counts().index,\n",
    "        autopct='%.0f%%')\n",
    "plt.show()"
   ]
  },
  {
   "cell_type": "code",
   "execution_count": 116,
   "id": "b0be5c96",
   "metadata": {},
   "outputs": [
    {
     "data": {
      "text/plain": [
       "Text(0, 0.5, 'Product Line')"
      ]
     },
     "execution_count": 116,
     "metadata": {},
     "output_type": "execute_result"
    },
    {
     "data": {
      "image/png": "[encoded data removed]",
      "text/plain": [
       "<Figure size 432x288 with 1 Axes>"
      ]
     },
     "metadata": {
      "needs_background": "light"
     },
     "output_type": "display_data"
    }
   ],
   "source": [
    "#creat dataframe total profit for each product line\n",
    "df_product_line = pd.DataFrame(all_data.groupby('product_line')['profit'].sum().sort_values(ascending=False))\n",
    "df_product_line.columns = ['profit']\n",
    "\n",
    "#visualize total profit for each product line\n",
    "sns.barplot(x='profit', y = df_product_line.index, data=df_product_line, orient='h')\n",
    "plt.title('Total Profit based on Product line')\n",
    "plt.xlabel('Profit')\n",
    "plt.ylabel('Product Line')"
   ]
  },
  {
   "cell_type": "code",
   "execution_count": 117,
   "id": "1f9bc478",
   "metadata": {},
   "outputs": [
    {
     "data": {
      "text/plain": [
       "Text(0, 0.5, 'Industry Category')"
      ]
     },
     "execution_count": 117,
     "metadata": {},
     "output_type": "execute_result"
    },
    {
     "data": {
      "image/png": "[encoded data removed]",
      "text/plain": [
       "<Figure size 432x288 with 1 Axes>"
      ]
     },
     "metadata": {
      "needs_background": "light"
     },
     "output_type": "display_data"
    }
   ],
   "source": [
    "#Group _industry_category based on Transactions \n",
    "df_job_industry_category = pd.DataFrame(all_data.groupby('job_industry_category')['transaction_id'].count().sort_values(ascending=False))\n",
    "df_job_industry_category.columns = ['transaction_id']\n",
    "\n",
    "#visualization of the df\n",
    "sns.barplot(x='transaction_id', y = df_job_industry_category.index, data=df_job_industry_category,  orient='h', palette=\"Blues_d\")\n",
    "plt.title('Industry Category based on count of Transactions')\n",
    "plt.xlabel('Count Of Transactions')\n",
    "plt.ylabel('Industry Category')"
   ]
  },
  {
   "cell_type": "code",
   "execution_count": 118,
   "id": "6555ee15",
   "metadata": {},
   "outputs": [
    {
     "data": {
      "text/plain": [
       "Text(0, 0.5, 'Industry Category')"
      ]
     },
     "execution_count": 118,
     "metadata": {},
     "output_type": "execute_result"
    },
    {
     "data": {
      "image/png": "[encoded data removed]",
      "text/plain": [
       "<Figure size 432x288 with 1 Axes>"
      ]
     },
     "metadata": {
      "needs_background": "light"
     },
     "output_type": "display_data"
    }
   ],
   "source": [
    "#Group _industry_category based on Transactions \n",
    "df_job_industry_category = pd.DataFrame(all_data.groupby('job_industry_category')['profit'].sum().sort_values(ascending=False))\n",
    "df_job_industry_category.columns = ['profit']\n",
    "\n",
    "#visualization of the df\n",
    "sns.barplot(x='profit', y = df_job_industry_category.index, data=df_job_industry_category,  orient='h', palette=\"Blues_d\")\n",
    "plt.title('Industry Category based on Total Profit')\n",
    "plt.xlabel('Total Profit')\n",
    "plt.ylabel('Industry Category')"
   ]
  },
  {
   "cell_type": "code",
   "execution_count": 119,
   "id": "32ae5cf8",
   "metadata": {},
   "outputs": [
    {
     "data": {
      "text/plain": [
       "Text(0, 0.5, 'Brand')"
      ]
     },
     "execution_count": 119,
     "metadata": {},
     "output_type": "execute_result"
    },
    {
     "data": {
      "image/png": "[encoded data removed]",
      "text/plain": [
       "<Figure size 432x288 with 1 Axes>"
      ]
     },
     "metadata": {
      "needs_background": "light"
     },
     "output_type": "display_data"
    }
   ],
   "source": [
    "# Group Brands based on Transactions \n",
    "df_brands = pd.DataFrame(all_data.groupby('brand')['transaction_id'].count().sort_values(ascending=False))\n",
    "df_brands.columns = ['transaction_id']\n",
    "\n",
    "#visualization of the df\n",
    "sns.barplot(x='transaction_id', y = df_brands.index, data=df_brands, palette=\"Blues_d\")\n",
    "plt.title('Most Transaction brands among customers')\n",
    "plt.xlabel('Count Of Transactions')\n",
    "plt.ylabel('Brand')"
   ]
  },
  {
   "cell_type": "code",
   "execution_count": 120,
   "id": "a974b217",
   "metadata": {},
   "outputs": [
    {
     "data": {
      "text/plain": [
       "Text(0, 0.5, 'Brand')"
      ]
     },
     "execution_count": 120,
     "metadata": {},
     "output_type": "execute_result"
    },
    {
     "data": {
      "image/png": "[encoded data removed]",
      "text/plain": [
       "<Figure size 432x288 with 1 Axes>"
      ]
     },
     "metadata": {
      "needs_background": "light"
     },
     "output_type": "display_data"
    }
   ],
   "source": [
    "# Group Brands based on Transactions \n",
    "df_brands = pd.DataFrame(all_data.groupby('brand')['profit'].mean().sort_values(ascending=False))\n",
    "df_brands.columns = ['profit']\n",
    "\n",
    "#visualization of the df\n",
    "sns.barplot(x='profit', y = df_brands.index, data=df_brands, palette=\"Blues_d\")\n",
    "plt.title('Most Profit brands among customers')\n",
    "plt.xlabel('Average of profit')\n",
    "plt.ylabel('Brand')"
   ]
  },
  {
   "cell_type": "code",
   "execution_count": 121,
   "id": "b1a83d43",
   "metadata": {},
   "outputs": [
    {
     "data": {
      "text/plain": [
       "Text(0, 0.5, 'Wealth Segment')"
      ]
     },
     "execution_count": 121,
     "metadata": {},
     "output_type": "execute_result"
    },
    {
     "data": {
      "image/png": "[encoded data removed]",
      "text/plain": [
       "<Figure size 432x288 with 1 Axes>"
      ]
     },
     "metadata": {
      "needs_background": "light"
     },
     "output_type": "display_data"
    }
   ],
   "source": [
    "# Group wealth_segment based on avg profit \n",
    "df_brands = pd.DataFrame(all_data.groupby('wealth_segment')['profit'].sum().sort_values(ascending=False))\n",
    "df_brands.columns = ['profit']\n",
    "\n",
    "#visualization of the df\n",
    "sns.barplot(x='profit', y = df_brands.index, data=df_brands, palette=\"Blues_d\")\n",
    "plt.title('Total Profit based on Wealth Segment of customers')\n",
    "plt.xlabel('Total Profit')\n",
    "plt.ylabel('Wealth Segment')"
   ]
  },
  {
   "cell_type": "code",
   "execution_count": 122,
   "id": "f538530a",
   "metadata": {},
   "outputs": [
    {
     "data": {
      "text/plain": [
       "Text(0, 0.5, 'Total Profit')"
      ]
     },
     "execution_count": 122,
     "metadata": {},
     "output_type": "execute_result"
    },
    {
     "data": {
      "image/png": "[encoded data removed]",
      "text/plain": [
       "<Figure size 432x288 with 1 Axes>"
      ]
     },
     "metadata": {
      "needs_background": "light"
     },
     "output_type": "display_data"
    }
   ],
   "source": [
    "# Group wealth_segment based on avg profit \n",
    "df_brands = pd.DataFrame(all_data.groupby('owns_car')['profit'].sum().sort_values(ascending=False))\n",
    "df_brands.columns = ['profit']\n",
    "\n",
    "#visualization of the df\n",
    "sns.barplot(x = df_brands.index, y='profit',  data=df_brands, palette=\"Blues_d\")\n",
    "plt.title('Total Profit based on customers own cars')\n",
    "plt.xlabel('Customers own cars')\n",
    "plt.ylabel('Total Profit')"
   ]
  },
  {
   "cell_type": "code",
   "execution_count": 123,
   "id": "30bee481",
   "metadata": {},
   "outputs": [],
   "source": [
    "data = pd.merge(rfm_df, all_data, how=\"inner\", left_on='CustomerId', right_on='customer_id')"
   ]
  },
  {
   "cell_type": "code",
   "execution_count": 124,
   "id": "4ca4f80a",
   "metadata": {},
   "outputs": [
    {
     "data": {
      "text/plain": [
       "Index(['CustomerId', 'Recency', 'Frequency', 'Monetary', 'R_rank_norm',\n",
       "       'F_rank_norm', 'M_rank_norm', 'RFM_Score', 'Customer_segment',\n",
       "       'customer_id', 'first_name', 'last_name', 'gender',\n",
       "       'past_3_years_bike_related_purchases', 'job_title',\n",
       "       'job_industry_category', 'wealth_segment', 'owns_car', 'tenure',\n",
       "       'address', 'postcode', 'state', 'country', 'property_valuation',\n",
       "       'transaction_id', 'product_id', 'transaction_date', 'online_order',\n",
       "       'order_status', 'brand', 'product_line', 'product_class',\n",
       "       'product_size', 'list_price', 'standard_cost',\n",
       "       'product_first_sold_date', 'profit', 'age', 'AgeGroup'],\n",
       "      dtype='object')"
      ]
     },
     "execution_count": 124,
     "metadata": {},
     "output_type": "execute_result"
    }
   ],
   "source": [
    "data.columns"
   ]
  },
  {
   "cell_type": "code",
   "execution_count": 125,
   "id": "b89750ba",
   "metadata": {},
   "outputs": [
    {
     "data": {
      "text/plain": [
       "Text(0, 0.5, 'Customer Segment')"
      ]
     },
     "execution_count": 125,
     "metadata": {},
     "output_type": "execute_result"
    },
    {
     "data": {
      "image/png": "[encoded data removed]",
      "text/plain": [
       "<Figure size 432x288 with 1 Axes>"
      ]
     },
     "metadata": {
      "needs_background": "light"
     },
     "output_type": "display_data"
    }
   ],
   "source": [
    "# Group customer_segment based on Total profit \n",
    "df_Customer = pd.DataFrame(data.groupby('Customer_segment')['profit'].sum().sort_values(ascending=False))\n",
    "df_Customer.columns = ['profit']\n",
    "\n",
    "#visualization of the df\n",
    "sns.barplot(x='profit', y = df_Customer.index, data=df_Customer, palette=\"Blues_d\")\n",
    "plt.title('Total Profit based on Customer Segments')\n",
    "plt.xlabel('Total Profit')\n",
    "plt.ylabel('Customer Segment')"
   ]
  },
  {
   "cell_type": "code",
   "execution_count": 126,
   "id": "11b742c2",
   "metadata": {},
   "outputs": [
    {
     "data": {
      "image/png": "[encoded data removed]",
      "text/plain": [
       "<Figure size 432x288 with 1 Axes>"
      ]
     },
     "metadata": {
      "needs_background": "light"
     },
     "output_type": "display_data"
    }
   ],
   "source": [
    "data.groupby('Customer_segment')['gender'] \\\n",
    "    .value_counts().sort_values() \\\n",
    "    .unstack(level=1) \\\n",
    "    .plot.barh(stacked=False, )\n",
    "\n",
    "#axes.set_ylim([0, 900])\n",
    "plt.title('Old Gender by Customer Segment')\n",
    "plt.legend(['Female', 'Male'], loc='upper right')\n",
    "plt.show()"
   ]
  },
  {
   "cell_type": "code",
   "execution_count": 127,
   "id": "78bfa809",
   "metadata": {},
   "outputs": [
    {
     "data": {
      "image/png": "[encoded data removed]",
      "text/plain": [
       "<Figure size 432x288 with 1 Axes>"
      ]
     },
     "metadata": {
      "needs_background": "light"
     },
     "output_type": "display_data"
    }
   ],
   "source": [
    "data.groupby('Customer_segment')['owns_car'] \\\n",
    "    .value_counts().sort_values() \\\n",
    "    .unstack(level=1) \\\n",
    "    .plot.barh(stacked=False, )\n",
    "\n",
    "#axes.set_ylim([0, 900])\n",
    "plt.title('Customers own cars by Customer Segment')\n",
    "plt.legend(['No', 'Yes'], loc='upper right')\n",
    "plt.show()"
   ]
  },
  {
   "cell_type": "code",
   "execution_count": 129,
   "id": "561be83e",
   "metadata": {},
   "outputs": [
    {
     "data": {
      "text/plain": [
       "customer_id                              0.0\n",
       "first_name                               0.0\n",
       "last_name                                0.0\n",
       "gender_x                                 0.0\n",
       "past_3_years_bike_related_purchases_x    0.0\n",
       "DOB_x                                    0.0\n",
       "job_title_x                              0.0\n",
       "job_industry_category_x                  0.0\n",
       "wealth_segment_x                         0.0\n",
       "deceased_indicator_x                     0.0\n",
       "owns_car_x                               0.0\n",
       "tenure_x                                 0.0\n",
       "address_x                                0.0\n",
       "postcode_x                               0.0\n",
       "state_x                                  0.0\n",
       "country_x                                0.0\n",
       "property_valuation_x                     0.0\n",
       "transaction_id                           0.0\n",
       "product_id                               0.0\n",
       "transaction_date                         0.0\n",
       "online_order                             0.0\n",
       "order_status                             0.0\n",
       "brand                                    0.0\n",
       "product_line                             0.0\n",
       "product_class                            0.0\n",
       "product_size                             0.0\n",
       "list_price                               0.0\n",
       "standard_cost                            0.0\n",
       "product_first_sold_date                  0.0\n",
       "gender_y                                 0.0\n",
       "past_3_years_bike_related_purchases_y    0.0\n",
       "DOB_y                                    0.0\n",
       "job_title_y                              0.0\n",
       "job_industry_category_y                  0.0\n",
       "wealth_segment_y                         0.0\n",
       "deceased_indicator_y                     0.0\n",
       "owns_car_y                               0.0\n",
       "tenure_y                                 0.0\n",
       "address_y                                0.0\n",
       "postcode_y                               0.0\n",
       "state_y                                  0.0\n",
       "country_y                                0.0\n",
       "property_valuation_y                     0.0\n",
       "Rank                                     0.0\n",
       "Value                                    0.0\n",
       "dtype: float64"
      ]
     },
     "execution_count": 129,
     "metadata": {},
     "output_type": "execute_result"
    }
   ],
   "source": [
    "New_data.isnull().sum()"
   ]
  },
  {
   "cell_type": "code",
   "execution_count": null,
   "id": "29a1d880",
   "metadata": {},
   "outputs": [],
   "source": [
    "data.to_csv('dataCleaned.csv')"
   ]
  },
  {
   "cell_type": "code",
   "execution_count": 130,
   "id": "cececf43",
   "metadata": {},
   "outputs": [],
   "source": [
    "New_data.to_csv('New_dataCleaned.csv')"
   ]
  }
 ],
 "metadata": {
  "kernelspec": {
   "display_name": "Python 3 (ipykernel)",
   "language": "python",
   "name": "python3"
  },
  "language_info": {
   "codemirror_mode": {
    "name": "ipython",
    "version": 3
   },
   "file_extension": ".py",
   "mimetype": "text/x-python",
   "name": "python",
   "nbconvert_exporter": "python",
   "pygments_lexer": "ipython3",
   "version": "3.8.8"
  }
 },
 "nbformat": 4,
 "nbformat_minor": 5
}
